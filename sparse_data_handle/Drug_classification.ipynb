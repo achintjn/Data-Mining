{
  "nbformat": 4,
  "nbformat_minor": 0,
  "metadata": {
    "colab": {
      "name": "Untitled2.ipynb",
      "provenance": []
    },
    "kernelspec": {
      "name": "python3",
      "display_name": "Python 3"
    },
    "language_info": {
      "name": "python"
    }
  },
  "cells": [
    {
      "cell_type": "code",
      "execution_count": 16,
      "metadata": {
        "id": "dlqyJr_lmATk"
      },
      "outputs": [],
      "source": [
        "import pandas as pd\n",
        "from time import time\n",
        "from math import ceil\n",
        "import scipy.sparse as sp\n",
        "from sklearn.model_selection import train_test_split, GridSearchCV, cross_val_score, RepeatedStratifiedKFold, StratifiedKFold\n",
        "from sklearn.metrics import accuracy_score, confusion_matrix,roc_curve, roc_auc_score, precision_score, recall_score, precision_recall_curve\n",
        "from sklearn.metrics import f1_score\n",
        "from sklearn.decomposition import TruncatedSVD\n",
        "#from sklearn.model_selection import cross_validation\n",
        "from sklearn.neighbors import KNeighborsClassifier\n",
        "from sklearn.tree import DecisionTreeClassifier\n",
        "from sklearn.svm import SVC\n",
        "from sklearn.linear_model import LogisticRegression\n",
        "from sklearn.decomposition import PCA\n",
        "from sklearn.feature_selection import SelectKBest, chi2\n",
        "from sklearn.naive_bayes import BernoulliNB\n",
        "import imblearn.under_sampling as us\n",
        "\n",
        "import numpy as np"
      ]
    },
    {
      "cell_type": "code",
      "source": [
        "train_data = pd.read_table('train_data_drug.txt',header=None,skiprows=0)\n",
        "test_data = pd.read_table('test_data_drug.txt',header=None,skiprows=0)"
      ],
      "metadata": {
        "id": "zB8tfC5qCWtl"
      },
      "execution_count": 19,
      "outputs": []
    },
    {
      "cell_type": "code",
      "source": [
        "print(type(train_data[0][1]))"
      ],
      "metadata": {
        "colab": {
          "base_uri": "https://localhost:8080/"
        },
        "id": "eleb3ipFE2A_",
        "outputId": "5bd9f262-2fa9-4a77-cd26-fd50948ec4d4"
      },
      "execution_count": 20,
      "outputs": [
        {
          "output_type": "stream",
          "name": "stdout",
          "text": [
            "<class 'numpy.int64'>\n"
          ]
        }
      ]
    },
    {
      "cell_type": "code",
      "source": [
        "def dense2sparse(records):\n",
        "\n",
        "    data = []\n",
        "    i = []\n",
        "    j = []\n",
        "\n",
        "    for index, record in enumerate(records):\n",
        "        features = map(int, record.split())\n",
        "        for feature in features:\n",
        "            data.append(1)\n",
        "            i.append(index)\n",
        "            j.append(feature - 1)\n",
        "    return sp.coo_matrix((data, (i,j)), shape = [records.size, 100000]).tocsr()\n",
        "\n",
        "#%%"
      ],
      "metadata": {
        "id": "f_h2NXVZHyjg"
      },
      "execution_count": 21,
      "outputs": []
    },
    {
      "cell_type": "code",
      "source": [
        "train = train_data[1]\n",
        "test = test_data[0]\n",
        "\n",
        "# create sparse representations of the data|\n",
        "sparse_train = dense2sparse(train)\n",
        "sparse_test = dense2sparse(test)"
      ],
      "metadata": {
        "id": "BCock4TfH1om"
      },
      "execution_count": 22,
      "outputs": []
    },
    {
      "cell_type": "code",
      "source": [
        "print(sparse_train)"
      ],
      "metadata": {
        "id": "Fu0IAdzIKsNP"
      },
      "execution_count": null,
      "outputs": []
    },
    {
      "cell_type": "code",
      "source": [
        "arrayyy = sparse_train.toarray()\n",
        "print(arrayyy)\n",
        "label = np.array(train_data[0])"
      ],
      "metadata": {
        "id": "qzP07nbQIz4Z"
      },
      "execution_count": null,
      "outputs": []
    },
    {
      "cell_type": "code",
      "source": [
        "sparsity = 1.0 - (np.count_nonzero(arrayyy) / arrayyy.size)\n",
        "print('The sparsity of X is ', sparsity )"
      ],
      "metadata": {
        "colab": {
          "base_uri": "https://localhost:8080/"
        },
        "id": "54vimEi2gTsg",
        "outputId": "4b50aca5-d229-47f4-df5f-c2b2cecaee60"
      },
      "execution_count": 25,
      "outputs": [
        {
          "output_type": "stream",
          "name": "stdout",
          "text": [
            "The sparsity of X is  0.990903\n"
          ]
        }
      ]
    },
    {
      "cell_type": "code",
      "source": [
        "#lets check again how csr look for the converted array\n",
        "\n",
        "S1 = sp.csr_matrix(arrayyy)\n",
        "print(S1)"
      ],
      "metadata": {
        "id": "4AAHmgUfgnnS"
      },
      "execution_count": null,
      "outputs": []
    },
    {
      "cell_type": "markdown",
      "source": [
        "Feature selection using chi2"
      ],
      "metadata": {
        "id": "EU2qnurT9Gwc"
      }
    },
    {
      "cell_type": "code",
      "source": [
        "#k_features = 225\n",
        "ch2a = SelectKBest(score_func=chi2, k=100)\n",
        "train_ch2 = ch2a.fit_transform(sparse_train.toarray(), np.array(train_data[0]))\n",
        "test_ch2 = ch2a.transform(sparse_test.toarray())"
      ],
      "metadata": {
        "id": "RmG-1dxssAeo"
      },
      "execution_count": 200,
      "outputs": []
    },
    {
      "cell_type": "markdown",
      "source": [
        "Feature selection using svd"
      ],
      "metadata": {
        "id": "n5r5gV4TEdTL"
      }
    },
    {
      "cell_type": "code",
      "source": [
        "\n",
        "svd_data = TruncatedSVD(n_components=100, random_state=27, n_iter = 30)\n",
        "train_SVD = svd_data.fit_transform(sparse_train.toarray(), np.array(train_data[0]))\n",
        "test_SVD = svd_data.transform(sparse_test.toarray())\n",
        "pd.DataFrame(train_SVD).head()"
      ],
      "metadata": {
        "colab": {
          "base_uri": "https://localhost:8080/",
          "height": 299
        },
        "id": "f4D_vczSEURv",
        "outputId": "d9ac82b9-401e-4b25-c496-c0f2d4155a32"
      },
      "execution_count": 201,
      "outputs": [
        {
          "output_type": "execute_result",
          "data": {
            "text/plain": [
              "         0         1         2         3         4         5         6   \\\n",
              "0  4.209650 -0.733033 -1.570471 -0.766227 -0.393375  0.175806  0.264959   \n",
              "1  3.860958 -0.456128 -1.631214 -1.053896 -0.212739 -0.033123  0.278416   \n",
              "2  3.767744 -0.569020 -1.656236 -0.999111 -0.223673  0.103723  0.485975   \n",
              "3  3.895828 -0.485519 -1.733733 -0.907990 -0.307748 -0.088855  0.671020   \n",
              "4  3.881690 -0.209864 -1.515431 -0.900986 -0.206139  0.018264  0.451893   \n",
              "\n",
              "         7         8         9   ...        90        91        92        93  \\\n",
              "0  0.055949  0.468206 -0.161636  ... -0.262286  0.113342 -0.166893 -1.389635   \n",
              "1 -0.053522  0.025920 -0.045390  ...  0.409617  0.665554 -0.261859  0.417001   \n",
              "2  0.119731  0.177655 -0.139602  ...  0.001142 -0.192767 -0.116757  0.718297   \n",
              "3 -0.141903  0.011077  0.076628  ...  0.288983 -0.082363 -0.575769  0.253564   \n",
              "4  0.097388  0.044032 -0.103366  ...  0.313554 -0.641057 -0.627448  0.615780   \n",
              "\n",
              "         94        95        96        97        98        99  \n",
              "0 -0.353081 -0.825687 -0.133248  0.298443 -0.625724 -0.053095  \n",
              "1 -0.673778 -0.184718 -0.112747 -0.748529  0.208285 -0.126590  \n",
              "2  0.364157  0.308691 -0.226423  0.027557 -0.135113  0.176790  \n",
              "3  0.222212  0.275303  0.653129 -0.442632  0.102576 -0.659107  \n",
              "4 -0.466243 -0.755983 -0.306418  0.196033  0.272390 -0.142676  \n",
              "\n",
              "[5 rows x 100 columns]"
            ],
            "text/html": [
              "\n",
              "  <div id=\"df-e3be605a-e1dd-43ae-93a9-d5b7ef4f7b63\">\n",
              "    <div class=\"colab-df-container\">\n",
              "      <div>\n",
              "<style scoped>\n",
              "    .dataframe tbody tr th:only-of-type {\n",
              "        vertical-align: middle;\n",
              "    }\n",
              "\n",
              "    .dataframe tbody tr th {\n",
              "        vertical-align: top;\n",
              "    }\n",
              "\n",
              "    .dataframe thead th {\n",
              "        text-align: right;\n",
              "    }\n",
              "</style>\n",
              "<table border=\"1\" class=\"dataframe\">\n",
              "  <thead>\n",
              "    <tr style=\"text-align: right;\">\n",
              "      <th></th>\n",
              "      <th>0</th>\n",
              "      <th>1</th>\n",
              "      <th>2</th>\n",
              "      <th>3</th>\n",
              "      <th>4</th>\n",
              "      <th>5</th>\n",
              "      <th>6</th>\n",
              "      <th>7</th>\n",
              "      <th>8</th>\n",
              "      <th>9</th>\n",
              "      <th>...</th>\n",
              "      <th>90</th>\n",
              "      <th>91</th>\n",
              "      <th>92</th>\n",
              "      <th>93</th>\n",
              "      <th>94</th>\n",
              "      <th>95</th>\n",
              "      <th>96</th>\n",
              "      <th>97</th>\n",
              "      <th>98</th>\n",
              "      <th>99</th>\n",
              "    </tr>\n",
              "  </thead>\n",
              "  <tbody>\n",
              "    <tr>\n",
              "      <th>0</th>\n",
              "      <td>4.209650</td>\n",
              "      <td>-0.733033</td>\n",
              "      <td>-1.570471</td>\n",
              "      <td>-0.766227</td>\n",
              "      <td>-0.393375</td>\n",
              "      <td>0.175806</td>\n",
              "      <td>0.264959</td>\n",
              "      <td>0.055949</td>\n",
              "      <td>0.468206</td>\n",
              "      <td>-0.161636</td>\n",
              "      <td>...</td>\n",
              "      <td>-0.262286</td>\n",
              "      <td>0.113342</td>\n",
              "      <td>-0.166893</td>\n",
              "      <td>-1.389635</td>\n",
              "      <td>-0.353081</td>\n",
              "      <td>-0.825687</td>\n",
              "      <td>-0.133248</td>\n",
              "      <td>0.298443</td>\n",
              "      <td>-0.625724</td>\n",
              "      <td>-0.053095</td>\n",
              "    </tr>\n",
              "    <tr>\n",
              "      <th>1</th>\n",
              "      <td>3.860958</td>\n",
              "      <td>-0.456128</td>\n",
              "      <td>-1.631214</td>\n",
              "      <td>-1.053896</td>\n",
              "      <td>-0.212739</td>\n",
              "      <td>-0.033123</td>\n",
              "      <td>0.278416</td>\n",
              "      <td>-0.053522</td>\n",
              "      <td>0.025920</td>\n",
              "      <td>-0.045390</td>\n",
              "      <td>...</td>\n",
              "      <td>0.409617</td>\n",
              "      <td>0.665554</td>\n",
              "      <td>-0.261859</td>\n",
              "      <td>0.417001</td>\n",
              "      <td>-0.673778</td>\n",
              "      <td>-0.184718</td>\n",
              "      <td>-0.112747</td>\n",
              "      <td>-0.748529</td>\n",
              "      <td>0.208285</td>\n",
              "      <td>-0.126590</td>\n",
              "    </tr>\n",
              "    <tr>\n",
              "      <th>2</th>\n",
              "      <td>3.767744</td>\n",
              "      <td>-0.569020</td>\n",
              "      <td>-1.656236</td>\n",
              "      <td>-0.999111</td>\n",
              "      <td>-0.223673</td>\n",
              "      <td>0.103723</td>\n",
              "      <td>0.485975</td>\n",
              "      <td>0.119731</td>\n",
              "      <td>0.177655</td>\n",
              "      <td>-0.139602</td>\n",
              "      <td>...</td>\n",
              "      <td>0.001142</td>\n",
              "      <td>-0.192767</td>\n",
              "      <td>-0.116757</td>\n",
              "      <td>0.718297</td>\n",
              "      <td>0.364157</td>\n",
              "      <td>0.308691</td>\n",
              "      <td>-0.226423</td>\n",
              "      <td>0.027557</td>\n",
              "      <td>-0.135113</td>\n",
              "      <td>0.176790</td>\n",
              "    </tr>\n",
              "    <tr>\n",
              "      <th>3</th>\n",
              "      <td>3.895828</td>\n",
              "      <td>-0.485519</td>\n",
              "      <td>-1.733733</td>\n",
              "      <td>-0.907990</td>\n",
              "      <td>-0.307748</td>\n",
              "      <td>-0.088855</td>\n",
              "      <td>0.671020</td>\n",
              "      <td>-0.141903</td>\n",
              "      <td>0.011077</td>\n",
              "      <td>0.076628</td>\n",
              "      <td>...</td>\n",
              "      <td>0.288983</td>\n",
              "      <td>-0.082363</td>\n",
              "      <td>-0.575769</td>\n",
              "      <td>0.253564</td>\n",
              "      <td>0.222212</td>\n",
              "      <td>0.275303</td>\n",
              "      <td>0.653129</td>\n",
              "      <td>-0.442632</td>\n",
              "      <td>0.102576</td>\n",
              "      <td>-0.659107</td>\n",
              "    </tr>\n",
              "    <tr>\n",
              "      <th>4</th>\n",
              "      <td>3.881690</td>\n",
              "      <td>-0.209864</td>\n",
              "      <td>-1.515431</td>\n",
              "      <td>-0.900986</td>\n",
              "      <td>-0.206139</td>\n",
              "      <td>0.018264</td>\n",
              "      <td>0.451893</td>\n",
              "      <td>0.097388</td>\n",
              "      <td>0.044032</td>\n",
              "      <td>-0.103366</td>\n",
              "      <td>...</td>\n",
              "      <td>0.313554</td>\n",
              "      <td>-0.641057</td>\n",
              "      <td>-0.627448</td>\n",
              "      <td>0.615780</td>\n",
              "      <td>-0.466243</td>\n",
              "      <td>-0.755983</td>\n",
              "      <td>-0.306418</td>\n",
              "      <td>0.196033</td>\n",
              "      <td>0.272390</td>\n",
              "      <td>-0.142676</td>\n",
              "    </tr>\n",
              "  </tbody>\n",
              "</table>\n",
              "<p>5 rows × 100 columns</p>\n",
              "</div>\n",
              "      <button class=\"colab-df-convert\" onclick=\"convertToInteractive('df-e3be605a-e1dd-43ae-93a9-d5b7ef4f7b63')\"\n",
              "              title=\"Convert this dataframe to an interactive table.\"\n",
              "              style=\"display:none;\">\n",
              "        \n",
              "  <svg xmlns=\"http://www.w3.org/2000/svg\" height=\"24px\"viewBox=\"0 0 24 24\"\n",
              "       width=\"24px\">\n",
              "    <path d=\"M0 0h24v24H0V0z\" fill=\"none\"/>\n",
              "    <path d=\"M18.56 5.44l.94 2.06.94-2.06 2.06-.94-2.06-.94-.94-2.06-.94 2.06-2.06.94zm-11 1L8.5 8.5l.94-2.06 2.06-.94-2.06-.94L8.5 2.5l-.94 2.06-2.06.94zm10 10l.94 2.06.94-2.06 2.06-.94-2.06-.94-.94-2.06-.94 2.06-2.06.94z\"/><path d=\"M17.41 7.96l-1.37-1.37c-.4-.4-.92-.59-1.43-.59-.52 0-1.04.2-1.43.59L10.3 9.45l-7.72 7.72c-.78.78-.78 2.05 0 2.83L4 21.41c.39.39.9.59 1.41.59.51 0 1.02-.2 1.41-.59l7.78-7.78 2.81-2.81c.8-.78.8-2.07 0-2.86zM5.41 20L4 18.59l7.72-7.72 1.47 1.35L5.41 20z\"/>\n",
              "  </svg>\n",
              "      </button>\n",
              "      \n",
              "  <style>\n",
              "    .colab-df-container {\n",
              "      display:flex;\n",
              "      flex-wrap:wrap;\n",
              "      gap: 12px;\n",
              "    }\n",
              "\n",
              "    .colab-df-convert {\n",
              "      background-color: #E8F0FE;\n",
              "      border: none;\n",
              "      border-radius: 50%;\n",
              "      cursor: pointer;\n",
              "      display: none;\n",
              "      fill: #1967D2;\n",
              "      height: 32px;\n",
              "      padding: 0 0 0 0;\n",
              "      width: 32px;\n",
              "    }\n",
              "\n",
              "    .colab-df-convert:hover {\n",
              "      background-color: #E2EBFA;\n",
              "      box-shadow: 0px 1px 2px rgba(60, 64, 67, 0.3), 0px 1px 3px 1px rgba(60, 64, 67, 0.15);\n",
              "      fill: #174EA6;\n",
              "    }\n",
              "\n",
              "    [theme=dark] .colab-df-convert {\n",
              "      background-color: #3B4455;\n",
              "      fill: #D2E3FC;\n",
              "    }\n",
              "\n",
              "    [theme=dark] .colab-df-convert:hover {\n",
              "      background-color: #434B5C;\n",
              "      box-shadow: 0px 1px 3px 1px rgba(0, 0, 0, 0.15);\n",
              "      filter: drop-shadow(0px 1px 2px rgba(0, 0, 0, 0.3));\n",
              "      fill: #FFFFFF;\n",
              "    }\n",
              "  </style>\n",
              "\n",
              "      <script>\n",
              "        const buttonEl =\n",
              "          document.querySelector('#df-e3be605a-e1dd-43ae-93a9-d5b7ef4f7b63 button.colab-df-convert');\n",
              "        buttonEl.style.display =\n",
              "          google.colab.kernel.accessAllowed ? 'block' : 'none';\n",
              "\n",
              "        async function convertToInteractive(key) {\n",
              "          const element = document.querySelector('#df-e3be605a-e1dd-43ae-93a9-d5b7ef4f7b63');\n",
              "          const dataTable =\n",
              "            await google.colab.kernel.invokeFunction('convertToInteractive',\n",
              "                                                     [key], {});\n",
              "          if (!dataTable) return;\n",
              "\n",
              "          const docLinkHtml = 'Like what you see? Visit the ' +\n",
              "            '<a target=\"_blank\" href=https://colab.research.google.com/notebooks/data_table.ipynb>data table notebook</a>'\n",
              "            + ' to learn more about interactive tables.';\n",
              "          element.innerHTML = '';\n",
              "          dataTable['output_type'] = 'display_data';\n",
              "          await google.colab.output.renderOutput(dataTable, element);\n",
              "          const docLink = document.createElement('div');\n",
              "          docLink.innerHTML = docLinkHtml;\n",
              "          element.appendChild(docLink);\n",
              "        }\n",
              "      </script>\n",
              "    </div>\n",
              "  </div>\n",
              "  "
            ]
          },
          "metadata": {},
          "execution_count": 201
        }
      ]
    },
    {
      "cell_type": "markdown",
      "source": [
        "UnderSampling and OverSampling"
      ],
      "metadata": {
        "id": "jRNABJWV9LKd"
      }
    },
    {
      "cell_type": "code",
      "source": [
        "from sklearn.datasets import make_classification\n",
        "from imblearn.over_sampling import RandomOverSampler\n",
        "\n",
        "oversample = RandomOverSampler(sampling_strategy='minority')\n",
        "# fit and apply the transform\n",
        "train_oversample, lable_oversample = oversample.fit_resample(train_ch2, np.array(train_data[0]))\n",
        "train_oversample = sp.csr_matrix(train_oversample)"
      ],
      "metadata": {
        "id": "sLA4xXT8KAZz"
      },
      "execution_count": 99,
      "outputs": []
    },
    {
      "cell_type": "code",
      "source": [
        "from sklearn.datasets import make_classification\n",
        "from imblearn.over_sampling import RandomOverSampler\n",
        "\n",
        "oversample = RandomOverSampler(sampling_strategy='minority')\n",
        "# fit and apply the transform\n",
        "train_oversample, lable_oversample = oversample.fit_resample(train_SVD, np.array(train_data[0]))\n",
        "train_oversample = sp.csr_matrix(train_oversample)"
      ],
      "metadata": {
        "id": "b2XphvmZKwq4"
      },
      "execution_count": 178,
      "outputs": []
    },
    {
      "cell_type": "code",
      "source": [
        "from pandas.core.common import random_state\n",
        "#Use undersampling algorithm\n",
        "import imblearn.under_sampling as us\n",
        "# enn = us.EditedNearestNeighbours(random_state=ceil(time())\n",
        "# train_res = enn.fit_sample(reduced_train, label)\n",
        "# train_res = sp.csr_matrix(train_res)\n",
        "\n",
        "from imblearn.under_sampling import RandomUnderSampler\n",
        "rosUnder = RandomUnderSampler(random_state=ceil(time()))\n",
        "train_Under, label_Under = rosUnder.fit_resample(train_ch2, np.array(train_data[0]))\n",
        "#print(sorted(Counter(label_resampledUnder).items()),label_resampledUnder.shape)\n",
        "train_Under = sp.csr_matrix(train_Under)"
      ],
      "metadata": {
        "id": "eETFP7pXKdqt"
      },
      "execution_count": 202,
      "outputs": []
    },
    {
      "cell_type": "code",
      "source": [
        "from pandas.core.common import random_state\n",
        "#Use undersampling algorithm\n",
        "import imblearn.under_sampling as us\n",
        "# enn = us.EditedNearestNeighbours(random_state=ceil(time())\n",
        "# train_res = enn.fit_sample(reduced_train, label)\n",
        "# train_res = sp.csr_matrix(train_res)\n",
        "\n",
        "from imblearn.under_sampling import RandomUnderSampler\n",
        "rosUnder = RandomUnderSampler(random_state=ceil(time()))\n",
        "train_Under, label_Under = rosUnder.fit_resample(train_SVD, np.array(train_data[0]))\n",
        "#print(sorted(Counter(label_resampledUnder).items()),label_resampledUnder.shape)\n",
        "train_Under = sp.csr_matrix(train_Under)"
      ],
      "metadata": {
        "id": "3zqGv-dOK6cZ"
      },
      "execution_count": 210,
      "outputs": []
    },
    {
      "cell_type": "markdown",
      "source": [
        "Split the data"
      ],
      "metadata": {
        "id": "8PauvR8eSihT"
      }
    },
    {
      "cell_type": "code",
      "source": [
        "X_train, X_test, y_train, y_test = train_test_split(train_oversample, lable_oversample, test_size=0.2, random_state=13)"
      ],
      "metadata": {
        "id": "-sNI-oySaCuD"
      },
      "execution_count": 112,
      "outputs": []
    },
    {
      "cell_type": "code",
      "source": [
        "X_train_under, X_test_under, y_train_under, y_test_under = train_test_split(train_Under, label_Under, test_size=0.2, random_state=13)"
      ],
      "metadata": {
        "id": "0mnmvuMESkCq"
      },
      "execution_count": 211,
      "outputs": []
    },
    {
      "cell_type": "markdown",
      "source": [
        "KNN classifier"
      ],
      "metadata": {
        "id": "3D-wQz4Zts8a"
      }
    },
    {
      "cell_type": "code",
      "source": [
        "KNN = KNeighborsClassifier(n_neighbors = 31)\n",
        "KNN.fit(X_train_under, y_train_under)\n",
        "y_pred_knn = KNN.predict(X_test_under)\n",
        "#print(y_pred_knn)\n",
        "#print('Accuracy Score: ',metrics.accuracy_score(y_test,y_pred)*100,'%',sep='')\n",
        "#print('Confusion Matrix: ',metrics.confusion_matrix(y_test,y_pred), sep = '\\n')"
      ],
      "metadata": {
        "id": "-oUdK5rStr_9"
      },
      "execution_count": 212,
      "outputs": []
    },
    {
      "cell_type": "markdown",
      "source": [
        "Decision Tree"
      ],
      "metadata": {
        "id": "uUm5SYnF2uL5"
      }
    },
    {
      "cell_type": "code",
      "source": [
        "#clf_gini = DecisionTreeClassifier(criterion='gini', max_depth=3, random_state=0)\n",
        "\n",
        "clf_gini = DecisionTreeClassifier(class_weight={0: 1, 1: 2})\n",
        "# fit the model\n",
        "clf_gini.fit(X_train_under, y_train_under)\n",
        "y_pred_gini = clf_gini.predict(X_test_under)\n",
        "y_pred_gini_test = clf_gini.predict(test_SVD)\n",
        "print(y_pred_gini)"
      ],
      "metadata": {
        "colab": {
          "base_uri": "https://localhost:8080/"
        },
        "id": "rEkve8AV2ujl",
        "outputId": "c131f3eb-9f69-4a8e-ca57-ea962a847f2c"
      },
      "execution_count": 213,
      "outputs": [
        {
          "output_type": "stream",
          "name": "stdout",
          "text": [
            "[1 1 0 1 1 1 1 1 0 0 0 0 1 1 0 1 1 0 0 1 1 1 0 1 0 1 1 0 1 1 1 0]\n"
          ]
        }
      ]
    },
    {
      "cell_type": "code",
      "source": [
        "#take in a .txt file\n",
        "np.savetxt(r'format.txt', y_pred_gini_test, fmt='%s')"
      ],
      "metadata": {
        "id": "M18vapic3j3B"
      },
      "execution_count": 174,
      "outputs": []
    },
    {
      "cell_type": "markdown",
      "source": [
        "Logistic regression"
      ],
      "metadata": {
        "id": "y_ya2VJRU-fc"
      }
    },
    {
      "cell_type": "code",
      "source": [
        "# define model\n",
        "w = {0:1, 1:3}\n",
        "lg1 = LogisticRegression(random_state=13, class_weight=w)\n",
        "# fit it\n",
        "#lg1.fit(X_train,y_train)\n",
        "lg1.fit(X_train_under,y_train_under)\n",
        "# test\n",
        "#y_pred = lg1.predict(X_test)\n",
        "y_pred_log = lg1.predict(X_test_under)\n",
        "#y_pred_log = lg1.predict(test_SVD)\n",
        "# performance\n",
        "#print(f'Accuracy Score: {accuracy_score(y_test,y_pred)}')\n",
        "#print(f'Confusion Matrix: \\n{confusion_matrix(y_test, y_pred)}')\n",
        "#print(f'Area Under Curve: {roc_auc_score(y_test, y_pred)}')\n",
        "#print(f'Recall score: {recall_score(y_test,y_pred)}')"
      ],
      "metadata": {
        "id": "-RurPuIyU-HB"
      },
      "execution_count": 214,
      "outputs": []
    },
    {
      "cell_type": "markdown",
      "source": [
        "Naive Bayes"
      ],
      "metadata": {
        "id": "Cts-7S2mVEMT"
      }
    },
    {
      "cell_type": "code",
      "source": [
        "bnb = BernoulliNB(alpha=.75)\n",
        "bnb.fit(X_train_under, y_train_under)\n",
        "results_NM = bnb.predict(X_test_under)\n",
        "#results_NM_TEST = bnb.predict(test_SVD)\n"
      ],
      "metadata": {
        "id": "V8wmFPYpUGHR"
      },
      "execution_count": 215,
      "outputs": []
    },
    {
      "cell_type": "code",
      "source": [
        "Cross validation"
      ],
      "metadata": {
        "id": "CWX94KhxW7Hq"
      },
      "execution_count": null,
      "outputs": []
    },
    {
      "cell_type": "code",
      "source": [
        "# Shuffling data for cross validation\n",
        "\n",
        "permutation = np.arange(label.size)\n",
        "np.random.shuffle(permutation)\n",
        "\n",
        "shuffled_train = X_train[permutation]\n",
        "shuffled_label = y_train[permutation]\n",
        "\n",
        "# cross-validation\n",
        "scores_kbest = cross_val_score(bnb, shuffled_train, shuffled_label, cv=10, scoring='f1')\n",
        "\n",
        "scores_knn = cross_val_score(KNN, shuffled_train, shuffled_label, cv=10, scoring='f1')\n",
        "\n",
        "scores_tree = cross_val_score(clf_gini, shuffled_train, shuffled_label, cv=10, scoring='f1')\n",
        "\n",
        "scores_logis = cross_val_score(lg1, shuffled_train, shuffled_label, cv=10, scoring='f1')\n",
        "\n",
        "print(str(scores_kbest.mean(0)))\n",
        "print(str(scores_knn.mean(0)))\n",
        "print(str(scores_tree.mean(0)))\n",
        "print(str(scores_logis.mean(0)))\n"
      ],
      "metadata": {
        "colab": {
          "base_uri": "https://localhost:8080/"
        },
        "id": "bAkWUdT3PuSt",
        "outputId": "01246487-317d-46b1-d48e-51d8c01a2d2c"
      },
      "execution_count": 216,
      "outputs": [
        {
          "output_type": "stream",
          "name": "stdout",
          "text": [
            "0.8918504922841584\n",
            "0.42962975611144316\n",
            "0.9547225444311497\n",
            "0.992621588431413\n"
          ]
        }
      ]
    },
    {
      "cell_type": "code",
      "source": [
        "np.savetxt(r'format.txt', y_pred_log, fmt='%s')"
      ],
      "metadata": {
        "id": "xr9NAxH6RItE"
      },
      "execution_count": 199,
      "outputs": []
    },
    {
      "cell_type": "code",
      "source": [
        "F1 and recall matrix"
      ],
      "metadata": {
        "id": "Y9hQUUlWXCCo"
      },
      "execution_count": null,
      "outputs": []
    },
    {
      "cell_type": "code",
      "source": [
        "print(\"Recall: Decision Tree: \",recall_score(y_test_under, y_pred_gini))\n",
        "print(\"F1: Decision Tree: \",f1_score(y_test_under, y_pred_gini))\n",
        "\n",
        "print(\"Recall: KNN: \",recall_score(y_test_under, y_pred_knn))\n",
        "print(\"F1: KNN: \",f1_score(y_test_under, y_pred_knn))\n",
        "\n",
        "print(\"Recall: Logistic Regression: \",recall_score(y_test_under, y_pred_log))\n",
        "print(\"F1: Logistic regression: \",f1_score(y_test_under, y_pred_log))\n",
        "\n",
        "print(\"Recall: BNB: \",recall_score(y_test_under, results_NM))\n",
        "print(\"F1: BNB: \",f1_score(y_test_under, results_NM))"
      ],
      "metadata": {
        "colab": {
          "base_uri": "https://localhost:8080/"
        },
        "id": "FwDGyaLbZBNf",
        "outputId": "73771bdb-6333-4ee8-e418-0359d49e7558"
      },
      "execution_count": 217,
      "outputs": [
        {
          "output_type": "stream",
          "name": "stdout",
          "text": [
            "Recall: Decision Tree:  0.8823529411764706\n",
            "F1: Decision Tree:  0.8108108108108107\n",
            "Recall: KNN:  0.47058823529411764\n",
            "F1: KNN:  0.5925925925925927\n",
            "F1: Logistic regression:  0.7222222222222222\n",
            "Recall: BNB:  0.7647058823529411\n",
            "F1: BNB:  0.7647058823529412\n"
          ]
        }
      ]
    }
  ]
}