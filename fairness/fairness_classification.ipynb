{
  "nbformat": 4,
  "nbformat_minor": 0,
  "metadata": {
    "colab": {
      "name": "Untitled6.ipynb",
      "provenance": [],
      "collapsed_sections": []
    },
    "kernelspec": {
      "name": "python3",
      "display_name": "Python 3"
    },
    "language_info": {
      "name": "python"
    }
  },
  "cells": [
    {
      "cell_type": "code",
      "execution_count": 149,
      "metadata": {
        "id": "JtoSdH4jL0vR"
      },
      "outputs": [],
      "source": [
        "import numpy as np\n",
        "import pandas as pd\n",
        "import matplotlib.pyplot as plt\n",
        "from sklearn.preprocessing import LabelEncoder\n",
        "import xgboost as xgb\n",
        "from sklearn.model_selection import train_test_split\n",
        "from sklearn.metrics import accuracy_score,confusion_matrix\n",
        "from sklearn.metrics import classification_report\n",
        "from sklearn.feature_selection import mutual_info_classif\n",
        "\n",
        "from sklearn.linear_model import LogisticRegression\n",
        "from sklearn.tree import DecisionTreeClassifier\n",
        "from sklearn.ensemble import RandomForestClassifier\n",
        "from sklearn.svm import LinearSVC\n",
        "from sklearn.ensemble import AdaBoostClassifier\n",
        "\n",
        "import seaborn as sns\n",
        "from sklearn.metrics import accuracy_score\n",
        "from sklearn import metrics\n",
        "from sklearn.metrics import f1_score"
      ]
    },
    {
      "cell_type": "code",
      "source": [
        "adult_df = pd.read_table(\"adult_train.csv\", delimiter=',',na_values=[\" ?\"])\n",
        "adult_df #32561 rows x 14 columns\n",
        "\n",
        "adult_df_test = pd.read_table(\"adult_test.csv\", delimiter=',',na_values=[\" ?\"])\n",
        "adult_df_test #16281 rows × 13 columns"
      ],
      "metadata": {
        "id": "eHGMyigMOwKH"
      },
      "execution_count": null,
      "outputs": []
    },
    {
      "cell_type": "code",
      "source": [
        "adult_df_drp = adult_df.dropna()\n",
        "adult_df_drp #30162 rows x 14 columns"
      ],
      "metadata": {
        "id": "nuYhnp-DPMgM"
      },
      "execution_count": null,
      "outputs": []
    },
    {
      "cell_type": "code",
      "source": [
        "counts = adult_df_drp['race'].value_counts()\n",
        "labels = counts.index\n",
        "\n",
        "#Plot pie chart\n",
        "plt.pie(counts, startangle=90)\n",
        "plt.legend(labels, loc=2,fontsize=15)\n",
        "plt.title(\"Race\",size=20)"
      ],
      "metadata": {
        "colab": {
          "base_uri": "https://localhost:8080/",
          "height": 287
        },
        "id": "Jw_0tTJcR97p",
        "outputId": "aa3906e9-0577-4bb1-e383-79b172d4c339"
      },
      "execution_count": 152,
      "outputs": [
        {
          "output_type": "execute_result",
          "data": {
            "text/plain": [
              "Text(0.5, 1.0, 'Race')"
            ]
          },
          "metadata": {},
          "execution_count": 152
        },
        {
          "output_type": "display_data",
          "data": {
            "text/plain": [
              "<Figure size 432x288 with 1 Axes>"
            ],
            "image/png": "[encoded data removed]"
          },
          "metadata": {}
        }
      ]
    },
    {
      "cell_type": "code",
      "source": [
        "counts = adult_df_drp['sex'].value_counts()\n",
        "labels = counts.index\n",
        "\n",
        "#Plot pie chart\n",
        "plt.pie(counts, startangle=90)\n",
        "plt.legend(labels, loc=2,fontsize=15)\n",
        "plt.title(\"Sex\",size=20)"
      ],
      "metadata": {
        "colab": {
          "base_uri": "https://localhost:8080/",
          "height": 287
        },
        "id": "5jInFhqlSgKy",
        "outputId": "7116482f-2e86-46c1-ba2f-b508a39cb39c"
      },
      "execution_count": 153,
      "outputs": [
        {
          "output_type": "execute_result",
          "data": {
            "text/plain": [
              "Text(0.5, 1.0, 'Sex')"
            ]
          },
          "metadata": {},
          "execution_count": 153
        },
        {
          "output_type": "display_data",
          "data": {
            "text/plain": [
              "<Figure size 432x288 with 1 Axes>"
            ],
            "image/png": "[encoded data removed]"
          },
          "metadata": {}
        }
      ]
    },
    {
      "cell_type": "code",
      "source": [
        "counts = adult_df_drp['income'].value_counts()\n",
        "labels = counts.index\n",
        "\n",
        "\n",
        "#Plot pie chart\n",
        "plt.pie(counts, startangle=90)\n",
        "plt.legend(labels, loc=2,fontsize=15)\n",
        "plt.title(\"income\",size=20)"
      ],
      "metadata": {
        "id": "NFxYR0r_FLOM"
      },
      "execution_count": null,
      "outputs": []
    },
    {
      "cell_type": "code",
      "source": [
        "age_column = adult_df_drp['age']\n",
        "#age_column\n",
        "edu_num = adult_df_drp['education-num']\n",
        "#edu_num\n",
        "capital_gain = adult_df_drp['capital-gain']\n",
        "capital_loss = adult_df_drp['capital-loss']\n",
        "\n",
        "df_fair = adult_df_drp[['race','sex']]\n",
        "\n",
        "#Define protected variables \n",
        "# for r in df_fair['race']:\n",
        "#   print(r.replace(\" \", \"\"))\n",
        "#   r = r.replace(\" \", \"\")\n",
        "#   if(r=='White'):\n",
        "#     df_fair.append({'priv_race': 1})\n",
        "#   else:\n",
        "#     df_fair.append({'priv_race': 0})\n",
        "\n",
        "df_fair['priv_race'] = [1 if r.replace(\" \", \"\")=='White' else 0 for r in df_fair['race']]\n",
        "df_fair['priv_sex'] = [1 if s.replace(\" \", \"\")=='Male' else 0 for s in df_fair['sex']]\n",
        "df_fair"
      ],
      "metadata": {
        "colab": {
          "base_uri": "https://localhost:8080/",
          "height": 622
        },
        "id": "P_UDM1MJNaek",
        "outputId": "f2648220-37bf-417d-cd3c-3d5236668188"
      },
      "execution_count": 155,
      "outputs": [
        {
          "output_type": "stream",
          "name": "stderr",
          "text": [
            "/usr/local/lib/python3.7/dist-packages/ipykernel_launcher.py:19: SettingWithCopyWarning: \n",
            "A value is trying to be set on a copy of a slice from a DataFrame.\n",
            "Try using .loc[row_indexer,col_indexer] = value instead\n",
            "\n",
            "See the caveats in the documentation: https://pandas.pydata.org/pandas-docs/stable/user_guide/indexing.html#returning-a-view-versus-a-copy\n",
            "/usr/local/lib/python3.7/dist-packages/ipykernel_launcher.py:20: SettingWithCopyWarning: \n",
            "A value is trying to be set on a copy of a slice from a DataFrame.\n",
            "Try using .loc[row_indexer,col_indexer] = value instead\n",
            "\n",
            "See the caveats in the documentation: https://pandas.pydata.org/pandas-docs/stable/user_guide/indexing.html#returning-a-view-versus-a-copy\n"
          ]
        },
        {
          "output_type": "execute_result",
          "data": {
            "text/plain": [
              "         race      sex  priv_race  priv_sex\n",
              "0       White     Male          1         1\n",
              "1       White     Male          1         1\n",
              "2       White     Male          1         1\n",
              "3       Black     Male          0         1\n",
              "4       Black   Female          0         0\n",
              "...       ...      ...        ...       ...\n",
              "32556   White   Female          1         0\n",
              "32557   White     Male          1         1\n",
              "32558   White   Female          1         0\n",
              "32559   White     Male          1         1\n",
              "32560   White   Female          1         0\n",
              "\n",
              "[30162 rows x 4 columns]"
            ],
            "text/html": [
              "\n",
              "  <div id=\"df-60709a33-ebf1-4eb8-a02c-87ea7d076f04\">\n",
              "    <div class=\"colab-df-container\">\n",
              "      <div>\n",
              "<style scoped>\n",
              "    .dataframe tbody tr th:only-of-type {\n",
              "        vertical-align: middle;\n",
              "    }\n",
              "\n",
              "    .dataframe tbody tr th {\n",
              "        vertical-align: top;\n",
              "    }\n",
              "\n",
              "    .dataframe thead th {\n",
              "        text-align: right;\n",
              "    }\n",
              "</style>\n",
              "<table border=\"1\" class=\"dataframe\">\n",
              "  <thead>\n",
              "    <tr style=\"text-align: right;\">\n",
              "      <th></th>\n",
              "      <th>race</th>\n",
              "      <th>sex</th>\n",
              "      <th>priv_race</th>\n",
              "      <th>priv_sex</th>\n",
              "    </tr>\n",
              "  </thead>\n",
              "  <tbody>\n",
              "    <tr>\n",
              "      <th>0</th>\n",
              "      <td>White</td>\n",
              "      <td>Male</td>\n",
              "      <td>1</td>\n",
              "      <td>1</td>\n",
              "    </tr>\n",
              "    <tr>\n",
              "      <th>1</th>\n",
              "      <td>White</td>\n",
              "      <td>Male</td>\n",
              "      <td>1</td>\n",
              "      <td>1</td>\n",
              "    </tr>\n",
              "    <tr>\n",
              "      <th>2</th>\n",
              "      <td>White</td>\n",
              "      <td>Male</td>\n",
              "      <td>1</td>\n",
              "      <td>1</td>\n",
              "    </tr>\n",
              "    <tr>\n",
              "      <th>3</th>\n",
              "      <td>Black</td>\n",
              "      <td>Male</td>\n",
              "      <td>0</td>\n",
              "      <td>1</td>\n",
              "    </tr>\n",
              "    <tr>\n",
              "      <th>4</th>\n",
              "      <td>Black</td>\n",
              "      <td>Female</td>\n",
              "      <td>0</td>\n",
              "      <td>0</td>\n",
              "    </tr>\n",
              "    <tr>\n",
              "      <th>...</th>\n",
              "      <td>...</td>\n",
              "      <td>...</td>\n",
              "      <td>...</td>\n",
              "      <td>...</td>\n",
              "    </tr>\n",
              "    <tr>\n",
              "      <th>32556</th>\n",
              "      <td>White</td>\n",
              "      <td>Female</td>\n",
              "      <td>1</td>\n",
              "      <td>0</td>\n",
              "    </tr>\n",
              "    <tr>\n",
              "      <th>32557</th>\n",
              "      <td>White</td>\n",
              "      <td>Male</td>\n",
              "      <td>1</td>\n",
              "      <td>1</td>\n",
              "    </tr>\n",
              "    <tr>\n",
              "      <th>32558</th>\n",
              "      <td>White</td>\n",
              "      <td>Female</td>\n",
              "      <td>1</td>\n",
              "      <td>0</td>\n",
              "    </tr>\n",
              "    <tr>\n",
              "      <th>32559</th>\n",
              "      <td>White</td>\n",
              "      <td>Male</td>\n",
              "      <td>1</td>\n",
              "      <td>1</td>\n",
              "    </tr>\n",
              "    <tr>\n",
              "      <th>32560</th>\n",
              "      <td>White</td>\n",
              "      <td>Female</td>\n",
              "      <td>1</td>\n",
              "      <td>0</td>\n",
              "    </tr>\n",
              "  </tbody>\n",
              "</table>\n",
              "<p>30162 rows × 4 columns</p>\n",
              "</div>\n",
              "      <button class=\"colab-df-convert\" onclick=\"convertToInteractive('df-60709a33-ebf1-4eb8-a02c-87ea7d076f04')\"\n",
              "              title=\"Convert this dataframe to an interactive table.\"\n",
              "              style=\"display:none;\">\n",
              "        \n",
              "  <svg xmlns=\"http://www.w3.org/2000/svg\" height=\"24px\"viewBox=\"0 0 24 24\"\n",
              "       width=\"24px\">\n",
              "    <path d=\"M0 0h24v24H0V0z\" fill=\"none\"/>\n",
              "    <path d=\"M18.56 5.44l.94 2.06.94-2.06 2.06-.94-2.06-.94-.94-2.06-.94 2.06-2.06.94zm-11 1L8.5 8.5l.94-2.06 2.06-.94-2.06-.94L8.5 2.5l-.94 2.06-2.06.94zm10 10l.94 2.06.94-2.06 2.06-.94-2.06-.94-.94-2.06-.94 2.06-2.06.94z\"/><path d=\"M17.41 7.96l-1.37-1.37c-.4-.4-.92-.59-1.43-.59-.52 0-1.04.2-1.43.59L10.3 9.45l-7.72 7.72c-.78.78-.78 2.05 0 2.83L4 21.41c.39.39.9.59 1.41.59.51 0 1.02-.2 1.41-.59l7.78-7.78 2.81-2.81c.8-.78.8-2.07 0-2.86zM5.41 20L4 18.59l7.72-7.72 1.47 1.35L5.41 20z\"/>\n",
              "  </svg>\n",
              "      </button>\n",
              "      \n",
              "  <style>\n",
              "    .colab-df-container {\n",
              "      display:flex;\n",
              "      flex-wrap:wrap;\n",
              "      gap: 12px;\n",
              "    }\n",
              "\n",
              "    .colab-df-convert {\n",
              "      background-color: #E8F0FE;\n",
              "      border: none;\n",
              "      border-radius: 50%;\n",
              "      cursor: pointer;\n",
              "      display: none;\n",
              "      fill: #1967D2;\n",
              "      height: 32px;\n",
              "      padding: 0 0 0 0;\n",
              "      width: 32px;\n",
              "    }\n",
              "\n",
              "    .colab-df-convert:hover {\n",
              "      background-color: #E2EBFA;\n",
              "      box-shadow: 0px 1px 2px rgba(60, 64, 67, 0.3), 0px 1px 3px 1px rgba(60, 64, 67, 0.15);\n",
              "      fill: #174EA6;\n",
              "    }\n",
              "\n",
              "    [theme=dark] .colab-df-convert {\n",
              "      background-color: #3B4455;\n",
              "      fill: #D2E3FC;\n",
              "    }\n",
              "\n",
              "    [theme=dark] .colab-df-convert:hover {\n",
              "      background-color: #434B5C;\n",
              "      box-shadow: 0px 1px 3px 1px rgba(0, 0, 0, 0.15);\n",
              "      filter: drop-shadow(0px 1px 2px rgba(0, 0, 0, 0.3));\n",
              "      fill: #FFFFFF;\n",
              "    }\n",
              "  </style>\n",
              "\n",
              "      <script>\n",
              "        const buttonEl =\n",
              "          document.querySelector('#df-60709a33-ebf1-4eb8-a02c-87ea7d076f04 button.colab-df-convert');\n",
              "        buttonEl.style.display =\n",
              "          google.colab.kernel.accessAllowed ? 'block' : 'none';\n",
              "\n",
              "        async function convertToInteractive(key) {\n",
              "          const element = document.querySelector('#df-60709a33-ebf1-4eb8-a02c-87ea7d076f04');\n",
              "          const dataTable =\n",
              "            await google.colab.kernel.invokeFunction('convertToInteractive',\n",
              "                                                     [key], {});\n",
              "          if (!dataTable) return;\n",
              "\n",
              "          const docLinkHtml = 'Like what you see? Visit the ' +\n",
              "            '<a target=\"_blank\" href=https://colab.research.google.com/notebooks/data_table.ipynb>data table notebook</a>'\n",
              "            + ' to learn more about interactive tables.';\n",
              "          element.innerHTML = '';\n",
              "          dataTable['output_type'] = 'display_data';\n",
              "          await google.colab.output.renderOutput(dataTable, element);\n",
              "          const docLink = document.createElement('div');\n",
              "          docLink.innerHTML = docLinkHtml;\n",
              "          element.appendChild(docLink);\n",
              "        }\n",
              "      </script>\n",
              "    </div>\n",
              "  </div>\n",
              "  "
            ]
          },
          "metadata": {},
          "execution_count": 155
        }
      ]
    },
    {
      "cell_type": "code",
      "source": [
        "age_column_test = adult_df_test['age']\n",
        "#age_column\n",
        "edu_num_test = adult_df_test['education-num']\n",
        "#edu_num\n",
        "capital_gain_test = adult_df_test['capital-gain']\n",
        "capital_loss_test = adult_df_test['capital-loss']\n",
        "\n",
        "df_fair_test = adult_df_test[['race','sex']]\n",
        "\n",
        "#Define protected variables \n",
        "# for r in df_fair['race']:\n",
        "#   print(r.replace(\" \", \"\"))\n",
        "#   r = r.replace(\" \", \"\")\n",
        "#   if(r=='White'):\n",
        "#     df_fair.append({'priv_race': 1})\n",
        "#   else:\n",
        "#     df_fair.append({'priv_race': 0})\n",
        "\n",
        "df_fair_test['priv_race'] = [1 if r.replace(\" \", \"\")=='White' else 0 for r in df_fair_test['race']]\n",
        "#df_fair['priv_sex'] = [1 if s.replace(\" \", \"\")=='Male' else 0 for s in df_fair['sex']]\n",
        "#df_fair"
      ],
      "metadata": {
        "colab": {
          "base_uri": "https://localhost:8080/"
        },
        "id": "bK0ka-c8SwTT",
        "outputId": "c71a2fa3-674b-4d35-b24f-53cc121e6378"
      },
      "execution_count": 156,
      "outputs": [
        {
          "output_type": "stream",
          "name": "stderr",
          "text": [
            "/usr/local/lib/python3.7/dist-packages/ipykernel_launcher.py:19: SettingWithCopyWarning: \n",
            "A value is trying to be set on a copy of a slice from a DataFrame.\n",
            "Try using .loc[row_indexer,col_indexer] = value instead\n",
            "\n",
            "See the caveats in the documentation: https://pandas.pydata.org/pandas-docs/stable/user_guide/indexing.html#returning-a-view-versus-a-copy\n"
          ]
        }
      ]
    },
    {
      "cell_type": "markdown",
      "source": [
        "Train Encoder"
      ],
      "metadata": {
        "id": "kEretqkETjul"
      }
    },
    {
      "cell_type": "code",
      "source": [
        "adult_df_enc = adult_df_drp.apply(LabelEncoder().fit_transform)\n",
        "adult_df_enc\n",
        "adult_df_enc['age'] = age_column\n",
        "adult_df_enc['education-num'] = edu_num\n",
        "adult_df_enc['capital-gain'] = capital_gain\n",
        "adult_df_enc['capital-loss'] = capital_loss\n",
        "adult_df_enc['race'] = df_fair['priv_race']\n",
        "adult_df_enc"
      ],
      "metadata": {
        "colab": {
          "base_uri": "https://localhost:8080/",
          "height": 522
        },
        "id": "EcOJ2i_tQ7Hq",
        "outputId": "fb24f268-3779-40ff-b59e-e3fef9fd61d9"
      },
      "execution_count": 157,
      "outputs": [
        {
          "output_type": "execute_result",
          "data": {
            "text/plain": [
              "       age  workclass  education  education-num  marital-status  occupation  \\\n",
              "0       39          5          9             13               4           0   \n",
              "1       50          4          9             13               2           3   \n",
              "2       38          2         11              9               0           5   \n",
              "3       53          2          1              7               2           5   \n",
              "4       28          2          9             13               2           9   \n",
              "...    ...        ...        ...            ...             ...         ...   \n",
              "32556   27          2          7             12               2          12   \n",
              "32557   40          2         11              9               2           6   \n",
              "32558   58          2         11              9               6           0   \n",
              "32559   22          2         11              9               4           0   \n",
              "32560   52          3         11              9               2           3   \n",
              "\n",
              "       relationship  race  sex  capital-gain  capital-loss  hours-per-week  \\\n",
              "0                 1     1    1          2174             0              39   \n",
              "1                 0     1    1             0             0              12   \n",
              "2                 1     1    1             0             0              39   \n",
              "3                 0     0    1             0             0              39   \n",
              "4                 5     0    0             0             0              39   \n",
              "...             ...   ...  ...           ...           ...             ...   \n",
              "32556             5     1    0             0             0              37   \n",
              "32557             0     1    1             0             0              39   \n",
              "32558             4     1    0             0             0              39   \n",
              "32559             3     1    1             0             0              19   \n",
              "32560             5     1    0         15024             0              39   \n",
              "\n",
              "       native-country  income  \n",
              "0                  38       0  \n",
              "1                  38       0  \n",
              "2                  38       0  \n",
              "3                  38       0  \n",
              "4                   4       0  \n",
              "...               ...     ...  \n",
              "32556              38       0  \n",
              "32557              38       1  \n",
              "32558              38       0  \n",
              "32559              38       0  \n",
              "32560              38       1  \n",
              "\n",
              "[30162 rows x 14 columns]"
            ],
            "text/html": [
              "\n",
              "  <div id=\"df-4c3a7cf3-d4a2-48e9-8356-ee9c8d7dc623\">\n",
              "    <div class=\"colab-df-container\">\n",
              "      <div>\n",
              "<style scoped>\n",
              "    .dataframe tbody tr th:only-of-type {\n",
              "        vertical-align: middle;\n",
              "    }\n",
              "\n",
              "    .dataframe tbody tr th {\n",
              "        vertical-align: top;\n",
              "    }\n",
              "\n",
              "    .dataframe thead th {\n",
              "        text-align: right;\n",
              "    }\n",
              "</style>\n",
              "<table border=\"1\" class=\"dataframe\">\n",
              "  <thead>\n",
              "    <tr style=\"text-align: right;\">\n",
              "      <th></th>\n",
              "      <th>age</th>\n",
              "      <th>workclass</th>\n",
              "      <th>education</th>\n",
              "      <th>education-num</th>\n",
              "      <th>marital-status</th>\n",
              "      <th>occupation</th>\n",
              "      <th>relationship</th>\n",
              "      <th>race</th>\n",
              "      <th>sex</th>\n",
              "      <th>capital-gain</th>\n",
              "      <th>capital-loss</th>\n",
              "      <th>hours-per-week</th>\n",
              "      <th>native-country</th>\n",
              "      <th>income</th>\n",
              "    </tr>\n",
              "  </thead>\n",
              "  <tbody>\n",
              "    <tr>\n",
              "      <th>0</th>\n",
              "      <td>39</td>\n",
              "      <td>5</td>\n",
              "      <td>9</td>\n",
              "      <td>13</td>\n",
              "      <td>4</td>\n",
              "      <td>0</td>\n",
              "      <td>1</td>\n",
              "      <td>1</td>\n",
              "      <td>1</td>\n",
              "      <td>2174</td>\n",
              "      <td>0</td>\n",
              "      <td>39</td>\n",
              "      <td>38</td>\n",
              "      <td>0</td>\n",
              "    </tr>\n",
              "    <tr>\n",
              "      <th>1</th>\n",
              "      <td>50</td>\n",
              "      <td>4</td>\n",
              "      <td>9</td>\n",
              "      <td>13</td>\n",
              "      <td>2</td>\n",
              "      <td>3</td>\n",
              "      <td>0</td>\n",
              "      <td>1</td>\n",
              "      <td>1</td>\n",
              "      <td>0</td>\n",
              "      <td>0</td>\n",
              "      <td>12</td>\n",
              "      <td>38</td>\n",
              "      <td>0</td>\n",
              "    </tr>\n",
              "    <tr>\n",
              "      <th>2</th>\n",
              "      <td>38</td>\n",
              "      <td>2</td>\n",
              "      <td>11</td>\n",
              "      <td>9</td>\n",
              "      <td>0</td>\n",
              "      <td>5</td>\n",
              "      <td>1</td>\n",
              "      <td>1</td>\n",
              "      <td>1</td>\n",
              "      <td>0</td>\n",
              "      <td>0</td>\n",
              "      <td>39</td>\n",
              "      <td>38</td>\n",
              "      <td>0</td>\n",
              "    </tr>\n",
              "    <tr>\n",
              "      <th>3</th>\n",
              "      <td>53</td>\n",
              "      <td>2</td>\n",
              "      <td>1</td>\n",
              "      <td>7</td>\n",
              "      <td>2</td>\n",
              "      <td>5</td>\n",
              "      <td>0</td>\n",
              "      <td>0</td>\n",
              "      <td>1</td>\n",
              "      <td>0</td>\n",
              "      <td>0</td>\n",
              "      <td>39</td>\n",
              "      <td>38</td>\n",
              "      <td>0</td>\n",
              "    </tr>\n",
              "    <tr>\n",
              "      <th>4</th>\n",
              "      <td>28</td>\n",
              "      <td>2</td>\n",
              "      <td>9</td>\n",
              "      <td>13</td>\n",
              "      <td>2</td>\n",
              "      <td>9</td>\n",
              "      <td>5</td>\n",
              "      <td>0</td>\n",
              "      <td>0</td>\n",
              "      <td>0</td>\n",
              "      <td>0</td>\n",
              "      <td>39</td>\n",
              "      <td>4</td>\n",
              "      <td>0</td>\n",
              "    </tr>\n",
              "    <tr>\n",
              "      <th>...</th>\n",
              "      <td>...</td>\n",
              "      <td>...</td>\n",
              "      <td>...</td>\n",
              "      <td>...</td>\n",
              "      <td>...</td>\n",
              "      <td>...</td>\n",
              "      <td>...</td>\n",
              "      <td>...</td>\n",
              "      <td>...</td>\n",
              "      <td>...</td>\n",
              "      <td>...</td>\n",
              "      <td>...</td>\n",
              "      <td>...</td>\n",
              "      <td>...</td>\n",
              "    </tr>\n",
              "    <tr>\n",
              "      <th>32556</th>\n",
              "      <td>27</td>\n",
              "      <td>2</td>\n",
              "      <td>7</td>\n",
              "      <td>12</td>\n",
              "      <td>2</td>\n",
              "      <td>12</td>\n",
              "      <td>5</td>\n",
              "      <td>1</td>\n",
              "      <td>0</td>\n",
              "      <td>0</td>\n",
              "      <td>0</td>\n",
              "      <td>37</td>\n",
              "      <td>38</td>\n",
              "      <td>0</td>\n",
              "    </tr>\n",
              "    <tr>\n",
              "      <th>32557</th>\n",
              "      <td>40</td>\n",
              "      <td>2</td>\n",
              "      <td>11</td>\n",
              "      <td>9</td>\n",
              "      <td>2</td>\n",
              "      <td>6</td>\n",
              "      <td>0</td>\n",
              "      <td>1</td>\n",
              "      <td>1</td>\n",
              "      <td>0</td>\n",
              "      <td>0</td>\n",
              "      <td>39</td>\n",
              "      <td>38</td>\n",
              "      <td>1</td>\n",
              "    </tr>\n",
              "    <tr>\n",
              "      <th>32558</th>\n",
              "      <td>58</td>\n",
              "      <td>2</td>\n",
              "      <td>11</td>\n",
              "      <td>9</td>\n",
              "      <td>6</td>\n",
              "      <td>0</td>\n",
              "      <td>4</td>\n",
              "      <td>1</td>\n",
              "      <td>0</td>\n",
              "      <td>0</td>\n",
              "      <td>0</td>\n",
              "      <td>39</td>\n",
              "      <td>38</td>\n",
              "      <td>0</td>\n",
              "    </tr>\n",
              "    <tr>\n",
              "      <th>32559</th>\n",
              "      <td>22</td>\n",
              "      <td>2</td>\n",
              "      <td>11</td>\n",
              "      <td>9</td>\n",
              "      <td>4</td>\n",
              "      <td>0</td>\n",
              "      <td>3</td>\n",
              "      <td>1</td>\n",
              "      <td>1</td>\n",
              "      <td>0</td>\n",
              "      <td>0</td>\n",
              "      <td>19</td>\n",
              "      <td>38</td>\n",
              "      <td>0</td>\n",
              "    </tr>\n",
              "    <tr>\n",
              "      <th>32560</th>\n",
              "      <td>52</td>\n",
              "      <td>3</td>\n",
              "      <td>11</td>\n",
              "      <td>9</td>\n",
              "      <td>2</td>\n",
              "      <td>3</td>\n",
              "      <td>5</td>\n",
              "      <td>1</td>\n",
              "      <td>0</td>\n",
              "      <td>15024</td>\n",
              "      <td>0</td>\n",
              "      <td>39</td>\n",
              "      <td>38</td>\n",
              "      <td>1</td>\n",
              "    </tr>\n",
              "  </tbody>\n",
              "</table>\n",
              "<p>30162 rows × 14 columns</p>\n",
              "</div>\n",
              "      <button class=\"colab-df-convert\" onclick=\"convertToInteractive('df-4c3a7cf3-d4a2-48e9-8356-ee9c8d7dc623')\"\n",
              "              title=\"Convert this dataframe to an interactive table.\"\n",
              "              style=\"display:none;\">\n",
              "        \n",
              "  <svg xmlns=\"http://www.w3.org/2000/svg\" height=\"24px\"viewBox=\"0 0 24 24\"\n",
              "       width=\"24px\">\n",
              "    <path d=\"M0 0h24v24H0V0z\" fill=\"none\"/>\n",
              "    <path d=\"M18.56 5.44l.94 2.06.94-2.06 2.06-.94-2.06-.94-.94-2.06-.94 2.06-2.06.94zm-11 1L8.5 8.5l.94-2.06 2.06-.94-2.06-.94L8.5 2.5l-.94 2.06-2.06.94zm10 10l.94 2.06.94-2.06 2.06-.94-2.06-.94-.94-2.06-.94 2.06-2.06.94z\"/><path d=\"M17.41 7.96l-1.37-1.37c-.4-.4-.92-.59-1.43-.59-.52 0-1.04.2-1.43.59L10.3 9.45l-7.72 7.72c-.78.78-.78 2.05 0 2.83L4 21.41c.39.39.9.59 1.41.59.51 0 1.02-.2 1.41-.59l7.78-7.78 2.81-2.81c.8-.78.8-2.07 0-2.86zM5.41 20L4 18.59l7.72-7.72 1.47 1.35L5.41 20z\"/>\n",
              "  </svg>\n",
              "      </button>\n",
              "      \n",
              "  <style>\n",
              "    .colab-df-container {\n",
              "      display:flex;\n",
              "      flex-wrap:wrap;\n",
              "      gap: 12px;\n",
              "    }\n",
              "\n",
              "    .colab-df-convert {\n",
              "      background-color: #E8F0FE;\n",
              "      border: none;\n",
              "      border-radius: 50%;\n",
              "      cursor: pointer;\n",
              "      display: none;\n",
              "      fill: #1967D2;\n",
              "      height: 32px;\n",
              "      padding: 0 0 0 0;\n",
              "      width: 32px;\n",
              "    }\n",
              "\n",
              "    .colab-df-convert:hover {\n",
              "      background-color: #E2EBFA;\n",
              "      box-shadow: 0px 1px 2px rgba(60, 64, 67, 0.3), 0px 1px 3px 1px rgba(60, 64, 67, 0.15);\n",
              "      fill: #174EA6;\n",
              "    }\n",
              "\n",
              "    [theme=dark] .colab-df-convert {\n",
              "      background-color: #3B4455;\n",
              "      fill: #D2E3FC;\n",
              "    }\n",
              "\n",
              "    [theme=dark] .colab-df-convert:hover {\n",
              "      background-color: #434B5C;\n",
              "      box-shadow: 0px 1px 3px 1px rgba(0, 0, 0, 0.15);\n",
              "      filter: drop-shadow(0px 1px 2px rgba(0, 0, 0, 0.3));\n",
              "      fill: #FFFFFF;\n",
              "    }\n",
              "  </style>\n",
              "\n",
              "      <script>\n",
              "        const buttonEl =\n",
              "          document.querySelector('#df-4c3a7cf3-d4a2-48e9-8356-ee9c8d7dc623 button.colab-df-convert');\n",
              "        buttonEl.style.display =\n",
              "          google.colab.kernel.accessAllowed ? 'block' : 'none';\n",
              "\n",
              "        async function convertToInteractive(key) {\n",
              "          const element = document.querySelector('#df-4c3a7cf3-d4a2-48e9-8356-ee9c8d7dc623');\n",
              "          const dataTable =\n",
              "            await google.colab.kernel.invokeFunction('convertToInteractive',\n",
              "                                                     [key], {});\n",
              "          if (!dataTable) return;\n",
              "\n",
              "          const docLinkHtml = 'Like what you see? Visit the ' +\n",
              "            '<a target=\"_blank\" href=https://colab.research.google.com/notebooks/data_table.ipynb>data table notebook</a>'\n",
              "            + ' to learn more about interactive tables.';\n",
              "          element.innerHTML = '';\n",
              "          dataTable['output_type'] = 'display_data';\n",
              "          await google.colab.output.renderOutput(dataTable, element);\n",
              "          const docLink = document.createElement('div');\n",
              "          docLink.innerHTML = docLinkHtml;\n",
              "          element.appendChild(docLink);\n",
              "        }\n",
              "      </script>\n",
              "    </div>\n",
              "  </div>\n",
              "  "
            ]
          },
          "metadata": {},
          "execution_count": 157
        }
      ]
    },
    {
      "cell_type": "markdown",
      "source": [
        "Test encoder"
      ],
      "metadata": {
        "id": "lHCVX4YITlOS"
      }
    },
    {
      "cell_type": "code",
      "source": [
        "adult_test_enc = adult_df_test.apply(LabelEncoder().fit_transform)\n",
        "#adult_test_enc\n",
        "adult_test_enc['age'] = age_column_test\n",
        "adult_test_enc['education-num'] = edu_num_test\n",
        "adult_test_enc['capital-gain'] = capital_gain_test\n",
        "adult_test_enc['capital-loss'] = capital_loss_test\n",
        "adult_test_enc['race'] = df_fair_test['priv_race']\n",
        "adult_test_enc"
      ],
      "metadata": {
        "colab": {
          "base_uri": "https://localhost:8080/",
          "height": 522
        },
        "id": "Nkzy2YIOTC0x",
        "outputId": "e99d1872-ea18-4cb1-b665-fc766a4591d3"
      },
      "execution_count": 158,
      "outputs": [
        {
          "output_type": "execute_result",
          "data": {
            "text/plain": [
              "       age  workclass  education  education-num  marital-status  occupation  \\\n",
              "0       25          3          1              7               4           6   \n",
              "1       38          3         11              9               2           4   \n",
              "2       28          1          7             12               2          10   \n",
              "3       44          3         15             10               2           6   \n",
              "4       18          8         15             10               4          14   \n",
              "...    ...        ...        ...            ...             ...         ...   \n",
              "16276   39          3          9             13               0           9   \n",
              "16277   64          8         11              9               6          14   \n",
              "16278   38          3          9             13               2           9   \n",
              "16279   44          3          9             13               0           0   \n",
              "16280   35          4          9             13               2           3   \n",
              "\n",
              "       relationship  race  sex  capital-gain  capital-loss  hours-per-week  \\\n",
              "0                 3     0    1             0             0              39   \n",
              "1                 0     1    1             0             0              49   \n",
              "2                 0     1    1             0             0              39   \n",
              "3                 0     0    1          7688             0              39   \n",
              "4                 3     1    0             0             0              29   \n",
              "...             ...   ...  ...           ...           ...             ...   \n",
              "16276             1     1    0             0             0              35   \n",
              "16277             2     0    1             0             0              39   \n",
              "16278             0     1    1             0             0              49   \n",
              "16279             3     0    1          5455             0              39   \n",
              "16280             0     1    1             0             0              59   \n",
              "\n",
              "       native-country  \n",
              "0                  37  \n",
              "1                  37  \n",
              "2                  37  \n",
              "3                  37  \n",
              "4                  37  \n",
              "...               ...  \n",
              "16276              37  \n",
              "16277              37  \n",
              "16278              37  \n",
              "16279              37  \n",
              "16280              37  \n",
              "\n",
              "[16281 rows x 13 columns]"
            ],
            "text/html": [
              "\n",
              "  <div id=\"df-5390f6d3-eb30-4e65-b340-9552b2240f89\">\n",
              "    <div class=\"colab-df-container\">\n",
              "      <div>\n",
              "<style scoped>\n",
              "    .dataframe tbody tr th:only-of-type {\n",
              "        vertical-align: middle;\n",
              "    }\n",
              "\n",
              "    .dataframe tbody tr th {\n",
              "        vertical-align: top;\n",
              "    }\n",
              "\n",
              "    .dataframe thead th {\n",
              "        text-align: right;\n",
              "    }\n",
              "</style>\n",
              "<table border=\"1\" class=\"dataframe\">\n",
              "  <thead>\n",
              "    <tr style=\"text-align: right;\">\n",
              "      <th></th>\n",
              "      <th>age</th>\n",
              "      <th>workclass</th>\n",
              "      <th>education</th>\n",
              "      <th>education-num</th>\n",
              "      <th>marital-status</th>\n",
              "      <th>occupation</th>\n",
              "      <th>relationship</th>\n",
              "      <th>race</th>\n",
              "      <th>sex</th>\n",
              "      <th>capital-gain</th>\n",
              "      <th>capital-loss</th>\n",
              "      <th>hours-per-week</th>\n",
              "      <th>native-country</th>\n",
              "    </tr>\n",
              "  </thead>\n",
              "  <tbody>\n",
              "    <tr>\n",
              "      <th>0</th>\n",
              "      <td>25</td>\n",
              "      <td>3</td>\n",
              "      <td>1</td>\n",
              "      <td>7</td>\n",
              "      <td>4</td>\n",
              "      <td>6</td>\n",
              "      <td>3</td>\n",
              "      <td>0</td>\n",
              "      <td>1</td>\n",
              "      <td>0</td>\n",
              "      <td>0</td>\n",
              "      <td>39</td>\n",
              "      <td>37</td>\n",
              "    </tr>\n",
              "    <tr>\n",
              "      <th>1</th>\n",
              "      <td>38</td>\n",
              "      <td>3</td>\n",
              "      <td>11</td>\n",
              "      <td>9</td>\n",
              "      <td>2</td>\n",
              "      <td>4</td>\n",
              "      <td>0</td>\n",
              "      <td>1</td>\n",
              "      <td>1</td>\n",
              "      <td>0</td>\n",
              "      <td>0</td>\n",
              "      <td>49</td>\n",
              "      <td>37</td>\n",
              "    </tr>\n",
              "    <tr>\n",
              "      <th>2</th>\n",
              "      <td>28</td>\n",
              "      <td>1</td>\n",
              "      <td>7</td>\n",
              "      <td>12</td>\n",
              "      <td>2</td>\n",
              "      <td>10</td>\n",
              "      <td>0</td>\n",
              "      <td>1</td>\n",
              "      <td>1</td>\n",
              "      <td>0</td>\n",
              "      <td>0</td>\n",
              "      <td>39</td>\n",
              "      <td>37</td>\n",
              "    </tr>\n",
              "    <tr>\n",
              "      <th>3</th>\n",
              "      <td>44</td>\n",
              "      <td>3</td>\n",
              "      <td>15</td>\n",
              "      <td>10</td>\n",
              "      <td>2</td>\n",
              "      <td>6</td>\n",
              "      <td>0</td>\n",
              "      <td>0</td>\n",
              "      <td>1</td>\n",
              "      <td>7688</td>\n",
              "      <td>0</td>\n",
              "      <td>39</td>\n",
              "      <td>37</td>\n",
              "    </tr>\n",
              "    <tr>\n",
              "      <th>4</th>\n",
              "      <td>18</td>\n",
              "      <td>8</td>\n",
              "      <td>15</td>\n",
              "      <td>10</td>\n",
              "      <td>4</td>\n",
              "      <td>14</td>\n",
              "      <td>3</td>\n",
              "      <td>1</td>\n",
              "      <td>0</td>\n",
              "      <td>0</td>\n",
              "      <td>0</td>\n",
              "      <td>29</td>\n",
              "      <td>37</td>\n",
              "    </tr>\n",
              "    <tr>\n",
              "      <th>...</th>\n",
              "      <td>...</td>\n",
              "      <td>...</td>\n",
              "      <td>...</td>\n",
              "      <td>...</td>\n",
              "      <td>...</td>\n",
              "      <td>...</td>\n",
              "      <td>...</td>\n",
              "      <td>...</td>\n",
              "      <td>...</td>\n",
              "      <td>...</td>\n",
              "      <td>...</td>\n",
              "      <td>...</td>\n",
              "      <td>...</td>\n",
              "    </tr>\n",
              "    <tr>\n",
              "      <th>16276</th>\n",
              "      <td>39</td>\n",
              "      <td>3</td>\n",
              "      <td>9</td>\n",
              "      <td>13</td>\n",
              "      <td>0</td>\n",
              "      <td>9</td>\n",
              "      <td>1</td>\n",
              "      <td>1</td>\n",
              "      <td>0</td>\n",
              "      <td>0</td>\n",
              "      <td>0</td>\n",
              "      <td>35</td>\n",
              "      <td>37</td>\n",
              "    </tr>\n",
              "    <tr>\n",
              "      <th>16277</th>\n",
              "      <td>64</td>\n",
              "      <td>8</td>\n",
              "      <td>11</td>\n",
              "      <td>9</td>\n",
              "      <td>6</td>\n",
              "      <td>14</td>\n",
              "      <td>2</td>\n",
              "      <td>0</td>\n",
              "      <td>1</td>\n",
              "      <td>0</td>\n",
              "      <td>0</td>\n",
              "      <td>39</td>\n",
              "      <td>37</td>\n",
              "    </tr>\n",
              "    <tr>\n",
              "      <th>16278</th>\n",
              "      <td>38</td>\n",
              "      <td>3</td>\n",
              "      <td>9</td>\n",
              "      <td>13</td>\n",
              "      <td>2</td>\n",
              "      <td>9</td>\n",
              "      <td>0</td>\n",
              "      <td>1</td>\n",
              "      <td>1</td>\n",
              "      <td>0</td>\n",
              "      <td>0</td>\n",
              "      <td>49</td>\n",
              "      <td>37</td>\n",
              "    </tr>\n",
              "    <tr>\n",
              "      <th>16279</th>\n",
              "      <td>44</td>\n",
              "      <td>3</td>\n",
              "      <td>9</td>\n",
              "      <td>13</td>\n",
              "      <td>0</td>\n",
              "      <td>0</td>\n",
              "      <td>3</td>\n",
              "      <td>0</td>\n",
              "      <td>1</td>\n",
              "      <td>5455</td>\n",
              "      <td>0</td>\n",
              "      <td>39</td>\n",
              "      <td>37</td>\n",
              "    </tr>\n",
              "    <tr>\n",
              "      <th>16280</th>\n",
              "      <td>35</td>\n",
              "      <td>4</td>\n",
              "      <td>9</td>\n",
              "      <td>13</td>\n",
              "      <td>2</td>\n",
              "      <td>3</td>\n",
              "      <td>0</td>\n",
              "      <td>1</td>\n",
              "      <td>1</td>\n",
              "      <td>0</td>\n",
              "      <td>0</td>\n",
              "      <td>59</td>\n",
              "      <td>37</td>\n",
              "    </tr>\n",
              "  </tbody>\n",
              "</table>\n",
              "<p>16281 rows × 13 columns</p>\n",
              "</div>\n",
              "      <button class=\"colab-df-convert\" onclick=\"convertToInteractive('df-5390f6d3-eb30-4e65-b340-9552b2240f89')\"\n",
              "              title=\"Convert this dataframe to an interactive table.\"\n",
              "              style=\"display:none;\">\n",
              "        \n",
              "  <svg xmlns=\"http://www.w3.org/2000/svg\" height=\"24px\"viewBox=\"0 0 24 24\"\n",
              "       width=\"24px\">\n",
              "    <path d=\"M0 0h24v24H0V0z\" fill=\"none\"/>\n",
              "    <path d=\"M18.56 5.44l.94 2.06.94-2.06 2.06-.94-2.06-.94-.94-2.06-.94 2.06-2.06.94zm-11 1L8.5 8.5l.94-2.06 2.06-.94-2.06-.94L8.5 2.5l-.94 2.06-2.06.94zm10 10l.94 2.06.94-2.06 2.06-.94-2.06-.94-.94-2.06-.94 2.06-2.06.94z\"/><path d=\"M17.41 7.96l-1.37-1.37c-.4-.4-.92-.59-1.43-.59-.52 0-1.04.2-1.43.59L10.3 9.45l-7.72 7.72c-.78.78-.78 2.05 0 2.83L4 21.41c.39.39.9.59 1.41.59.51 0 1.02-.2 1.41-.59l7.78-7.78 2.81-2.81c.8-.78.8-2.07 0-2.86zM5.41 20L4 18.59l7.72-7.72 1.47 1.35L5.41 20z\"/>\n",
              "  </svg>\n",
              "      </button>\n",
              "      \n",
              "  <style>\n",
              "    .colab-df-container {\n",
              "      display:flex;\n",
              "      flex-wrap:wrap;\n",
              "      gap: 12px;\n",
              "    }\n",
              "\n",
              "    .colab-df-convert {\n",
              "      background-color: #E8F0FE;\n",
              "      border: none;\n",
              "      border-radius: 50%;\n",
              "      cursor: pointer;\n",
              "      display: none;\n",
              "      fill: #1967D2;\n",
              "      height: 32px;\n",
              "      padding: 0 0 0 0;\n",
              "      width: 32px;\n",
              "    }\n",
              "\n",
              "    .colab-df-convert:hover {\n",
              "      background-color: #E2EBFA;\n",
              "      box-shadow: 0px 1px 2px rgba(60, 64, 67, 0.3), 0px 1px 3px 1px rgba(60, 64, 67, 0.15);\n",
              "      fill: #174EA6;\n",
              "    }\n",
              "\n",
              "    [theme=dark] .colab-df-convert {\n",
              "      background-color: #3B4455;\n",
              "      fill: #D2E3FC;\n",
              "    }\n",
              "\n",
              "    [theme=dark] .colab-df-convert:hover {\n",
              "      background-color: #434B5C;\n",
              "      box-shadow: 0px 1px 3px 1px rgba(0, 0, 0, 0.15);\n",
              "      filter: drop-shadow(0px 1px 2px rgba(0, 0, 0, 0.3));\n",
              "      fill: #FFFFFF;\n",
              "    }\n",
              "  </style>\n",
              "\n",
              "      <script>\n",
              "        const buttonEl =\n",
              "          document.querySelector('#df-5390f6d3-eb30-4e65-b340-9552b2240f89 button.colab-df-convert');\n",
              "        buttonEl.style.display =\n",
              "          google.colab.kernel.accessAllowed ? 'block' : 'none';\n",
              "\n",
              "        async function convertToInteractive(key) {\n",
              "          const element = document.querySelector('#df-5390f6d3-eb30-4e65-b340-9552b2240f89');\n",
              "          const dataTable =\n",
              "            await google.colab.kernel.invokeFunction('convertToInteractive',\n",
              "                                                     [key], {});\n",
              "          if (!dataTable) return;\n",
              "\n",
              "          const docLinkHtml = 'Like what you see? Visit the ' +\n",
              "            '<a target=\"_blank\" href=https://colab.research.google.com/notebooks/data_table.ipynb>data table notebook</a>'\n",
              "            + ' to learn more about interactive tables.';\n",
              "          element.innerHTML = '';\n",
              "          dataTable['output_type'] = 'display_data';\n",
              "          await google.colab.output.renderOutput(dataTable, element);\n",
              "          const docLink = document.createElement('div');\n",
              "          docLink.innerHTML = docLinkHtml;\n",
              "          element.appendChild(docLink);\n",
              "        }\n",
              "      </script>\n",
              "    </div>\n",
              "  </div>\n",
              "  "
            ]
          },
          "metadata": {},
          "execution_count": 158
        }
      ]
    },
    {
      "cell_type": "code",
      "source": [
        "y_lbl=adult_df_enc.income\n",
        "x_lbl=adult_df_enc.drop('income', axis=1)"
      ],
      "metadata": {
        "id": "Uj-62jMmDTpJ"
      },
      "execution_count": 159,
      "outputs": []
    },
    {
      "cell_type": "code",
      "source": [
        "x_train, x_test, y_train, y_test = train_test_split(x_lbl, y_lbl, test_size=0.3, random_state=13)"
      ],
      "metadata": {
        "id": "YUhsKd44RzHg"
      },
      "execution_count": 160,
      "outputs": []
    },
    {
      "cell_type": "code",
      "source": [
        "print(x_train.shape)\n",
        "print(x_test.shape)\n",
        "print(y_train.shape)\n",
        "print(y_test.shape)"
      ],
      "metadata": {
        "colab": {
          "base_uri": "https://localhost:8080/"
        },
        "id": "DLLXGh1fDv4b",
        "outputId": "66d11add-fa5b-434a-d947-fdd3ac7efe72"
      },
      "execution_count": 161,
      "outputs": [
        {
          "output_type": "stream",
          "name": "stdout",
          "text": [
            "(21113, 13)\n",
            "(9049, 13)\n",
            "(21113,)\n",
            "(9049,)\n"
          ]
        }
      ]
    },
    {
      "cell_type": "code",
      "source": [
        "#classifying using linear SVM\n",
        "classifier = LinearSVC(random_state = 27)\n",
        "classifier.fit(x_train, y_train)\n",
        "y_predSVC = classifier.predict(x_test)\n",
        "y_predSVC"
      ],
      "metadata": {
        "colab": {
          "base_uri": "https://localhost:8080/"
        },
        "id": "3dn_La5lEWcG",
        "outputId": "7e857854-fe2e-4d81-c40b-6d0b6b30caf4"
      },
      "execution_count": 162,
      "outputs": [
        {
          "output_type": "stream",
          "name": "stderr",
          "text": [
            "/usr/local/lib/python3.7/dist-packages/sklearn/svm/_base.py:1208: ConvergenceWarning: Liblinear failed to converge, increase the number of iterations.\n",
            "  ConvergenceWarning,\n"
          ]
        },
        {
          "output_type": "execute_result",
          "data": {
            "text/plain": [
              "array([0, 0, 0, ..., 1, 0, 0])"
            ]
          },
          "metadata": {},
          "execution_count": 162
        }
      ]
    },
    {
      "cell_type": "code",
      "source": [
        "#classifying using logistic regression\n",
        "w = {0:1, 1:9}\n",
        "lg1 = LogisticRegression(random_state=13, class_weight=w)\n",
        "lg1.fit(x_train, y_train)\n",
        "y_predLogistic = lg1.predict(x_test)\n",
        "y_predLogistic"
      ],
      "metadata": {
        "colab": {
          "base_uri": "https://localhost:8080/"
        },
        "id": "0EAc9mJeEXmj",
        "outputId": "2f1838cf-43ba-4249-e8b6-b6ce218d6a6e"
      },
      "execution_count": 163,
      "outputs": [
        {
          "output_type": "stream",
          "name": "stderr",
          "text": [
            "/usr/local/lib/python3.7/dist-packages/sklearn/linear_model/_logistic.py:818: ConvergenceWarning: lbfgs failed to converge (status=1):\n",
            "STOP: TOTAL NO. of ITERATIONS REACHED LIMIT.\n",
            "\n",
            "Increase the number of iterations (max_iter) or scale the data as shown in:\n",
            "    https://scikit-learn.org/stable/modules/preprocessing.html\n",
            "Please also refer to the documentation for alternative solver options:\n",
            "    https://scikit-learn.org/stable/modules/linear_model.html#logistic-regression\n",
            "  extra_warning_msg=_LOGISTIC_SOLVER_CONVERGENCE_MSG,\n"
          ]
        },
        {
          "output_type": "execute_result",
          "data": {
            "text/plain": [
              "array([1, 0, 1, ..., 1, 0, 0])"
            ]
          },
          "metadata": {},
          "execution_count": 163
        }
      ]
    },
    {
      "cell_type": "code",
      "source": [
        "#decision tree\n",
        "decisionTree = DecisionTreeClassifier(class_weight={0: 1, 1: 1.5}, random_state = 27)\n",
        "decisionTree.fit(x_train,y_train)\n",
        "y_predDT = decisionTree.predict(x_test)\n",
        "y_predDT"
      ],
      "metadata": {
        "colab": {
          "base_uri": "https://localhost:8080/"
        },
        "id": "qsuRRYnREXjN",
        "outputId": "16b75da5-0562-4694-9399-fd8c09a44fad"
      },
      "execution_count": 164,
      "outputs": [
        {
          "output_type": "execute_result",
          "data": {
            "text/plain": [
              "array([0, 0, 1, ..., 0, 0, 0])"
            ]
          },
          "metadata": {},
          "execution_count": 164
        }
      ]
    },
    {
      "cell_type": "code",
      "source": [
        "#random forest\n",
        "rfc = RandomForestClassifier(random_state = 27, max_depth = 8)\n",
        "rfc.fit(x_train, y_train)\n",
        "y_predRFC = rfc.predict(x_test)\n",
        "y_predRFC"
      ],
      "metadata": {
        "colab": {
          "base_uri": "https://localhost:8080/"
        },
        "id": "FM8kVm3lEXfi",
        "outputId": "74a071e6-13e6-4b85-d8e3-fa1ce97f1677"
      },
      "execution_count": 165,
      "outputs": [
        {
          "output_type": "execute_result",
          "data": {
            "text/plain": [
              "array([0, 0, 0, ..., 1, 0, 0])"
            ]
          },
          "metadata": {},
          "execution_count": 165
        }
      ]
    },
    {
      "cell_type": "code",
      "source": [
        "#adaboost\n",
        "abc = AdaBoostClassifier(base_estimator= DecisionTreeClassifier(class_weight= {0:1, 1:1.5}))\n",
        "adaBoost = abc.fit(x_train, y_train)\n",
        "y_predAB = adaBoost.predict(x_test)\n",
        "y_predAB"
      ],
      "metadata": {
        "colab": {
          "base_uri": "https://localhost:8080/"
        },
        "id": "nULKXHEPEXbo",
        "outputId": "30907728-d740-48db-9517-cfa1a27a8d51"
      },
      "execution_count": 166,
      "outputs": [
        {
          "output_type": "execute_result",
          "data": {
            "text/plain": [
              "array([0, 0, 1, ..., 0, 0, 0])"
            ]
          },
          "metadata": {},
          "execution_count": 166
        }
      ]
    },
    {
      "cell_type": "code",
      "source": [
        "#XGBoost  \n",
        "model = xgb.XGBClassifier()\n",
        "model.fit(x_train, y_train)\n",
        "\n",
        "#Get predictions\n",
        "y_predXG = model.predict(x_test)\n",
        "y_predXG_test = model.predict(adult_test_enc)\n",
        "\n",
        "y_predXG"
      ],
      "metadata": {
        "colab": {
          "base_uri": "https://localhost:8080/"
        },
        "id": "NmfB4eOmH2eM",
        "outputId": "d874cc56-0b88-4a49-ce4c-420645e25106"
      },
      "execution_count": 167,
      "outputs": [
        {
          "output_type": "execute_result",
          "data": {
            "text/plain": [
              "array([0, 0, 0, ..., 1, 0, 0])"
            ]
          },
          "metadata": {},
          "execution_count": 167
        }
      ]
    },
    {
      "cell_type": "code",
      "source": [
        "print(y_predXG_test)\n",
        "#to_submit = list(map(int, to_submit))\n",
        "np.savetxt(r'format.txt', y_predXG_test, fmt='%s')"
      ],
      "metadata": {
        "colab": {
          "base_uri": "https://localhost:8080/"
        },
        "id": "NZdN-4bXT9v1",
        "outputId": "7f625b4a-3c11-411f-b41a-d63a45156e6a"
      },
      "execution_count": 148,
      "outputs": [
        {
          "output_type": "stream",
          "name": "stdout",
          "text": [
            "[0 0 0 ... 1 0 1]\n"
          ]
        }
      ]
    },
    {
      "cell_type": "code",
      "source": [
        "print(\"F1: SVC: \",f1_score(y_test, y_predSVC))\n",
        "\n",
        "print(\"F1: Logistic Reg: \",f1_score(y_test, y_predLogistic))\n",
        "\n",
        "print(\"F1: Decision Tree: \",f1_score(y_test, y_predDT))\n",
        "\n",
        "print(\"F1: Random Forest: \",f1_score(y_test, y_predRFC))\n",
        "\n",
        "print(\"F1: AdaBoost: \",f1_score(y_test, y_predAB))\n",
        "\n",
        "print(\"F1: XGBoost: \",f1_score(y_test, y_predXG))"
      ],
      "metadata": {
        "colab": {
          "base_uri": "https://localhost:8080/"
        },
        "id": "7jva_7bQEXTC",
        "outputId": "1d74c287-d377-4ec9-f243-cb1a47b60fda"
      },
      "execution_count": 168,
      "outputs": [
        {
          "output_type": "stream",
          "name": "stdout",
          "text": [
            "F1: SVC:  0.5135278514588859\n",
            "F1: Logistic Reg:  0.5130217623974312\n",
            "F1: Decision Tree:  0.6286701208981003\n",
            "F1: Random Forest:  0.6495726495726496\n",
            "F1: AdaBoost:  0.6502620186830713\n",
            "F1: XGBoost:  0.6895151053566895\n"
          ]
        }
      ]
    },
    {
      "cell_type": "code",
      "source": [
        "print('Accuracy Score SVM: ',metrics.accuracy_score(y_test,y_predSVC)*100,'%',sep='')\n",
        "print('Confusion Matrix SVM: ',metrics.confusion_matrix(y_test,y_predSVC), sep = '\\n')\n",
        "\n",
        "print('Accuracy Score Logistic Reg: ',metrics.accuracy_score(y_test,y_predLogistic)*100,'%',sep='')\n",
        "print('Confusion Matrix Logistic Reg: ',metrics.confusion_matrix(y_test,y_predLogistic), sep = '\\n')\n",
        "\n",
        "print('Accuracy Score Decision Tree: ',metrics.accuracy_score(y_test,y_predDT)*100,'%',sep='')\n",
        "print('Confusion Matrix Decision Tree: ',metrics.confusion_matrix(y_test,y_predDT), sep = '\\n')\n",
        "\n",
        "print('Accuracy Score Random Forest: ',metrics.accuracy_score(y_test,y_predRFC)*100,'%',sep='')\n",
        "print('Confusion Matrix Random Forest: ',metrics.confusion_matrix(y_test,y_predRFC), sep = '\\n')\n",
        "\n",
        "print('Accuracy Score AdaBoost: ',metrics.accuracy_score(y_test,y_predAB)*100,'%',sep='')\n",
        "print('Confusion Matrix AdaBoost: ',metrics.confusion_matrix(y_test,y_predAB), sep = '\\n')\n",
        "\n",
        "print('Accuracy Score XGBoost: ',metrics.accuracy_score(y_test,y_predXG)*100,'%',sep='')\n",
        "print('Confusion Matrix XGBoost: ',metrics.confusion_matrix(y_test,y_predXG), sep = '\\n')\n"
      ],
      "metadata": {
        "colab": {
          "base_uri": "https://localhost:8080/"
        },
        "id": "cH6UuckSG9Cu",
        "outputId": "29d6824e-73af-4c31-8781-947122adbad8"
      },
      "execution_count": 169,
      "outputs": [
        {
          "output_type": "stream",
          "name": "stdout",
          "text": [
            "Accuracy Score SVM: 79.73256713449%\n",
            "Confusion Matrix SVM: \n",
            "[[6247  547]\n",
            " [1287  968]]\n",
            "Accuracy Score Logistic Reg: 54.746380815559725%\n",
            "Confusion Matrix Logistic Reg: \n",
            "[[2797 3997]\n",
            " [  98 2157]]\n",
            "Accuracy Score Decision Tree: 80.99237484804951%\n",
            "Confusion Matrix Decision Tree: \n",
            "[[5873  921]\n",
            " [ 799 1456]]\n",
            "Accuracy Score Random Forest: 85.50116034920985%\n",
            "Confusion Matrix Random Forest: \n",
            "[[6521  273]\n",
            " [1039 1216]]\n",
            "Accuracy Score AdaBoost: 83.03679964636976%\n",
            "Confusion Matrix AdaBoost: \n",
            "[[6087  707]\n",
            " [ 828 1427]]\n",
            "Accuracy Score XGBoost: 86.48469444137473%\n",
            "Confusion Matrix XGBoost: \n",
            "[[6468  326]\n",
            " [ 897 1358]]\n"
          ]
        }
      ]
    },
    {
      "cell_type": "code",
      "source": [
        "#df_fair['priv_race'] = [1 if r.replace(\" \", \"\")=='White' else 0 for r in df_fair['race']]\n",
        "\n",
        "def demoParity(predicted, test_lbl, s_data):\n",
        "  p1s1 = 0\n",
        "  p1s0 = 0\n",
        "  s1 = 0\n",
        "  s0 = 0\n",
        "  size = len(predicted)\n",
        "  for i in range(len(predicted)):\n",
        "    if(test_lbl[s_data].iloc[i]==1):\n",
        "      s1 += 1\n",
        "      if(predicted[i]==1):\n",
        "        p1s1 += 1\n",
        "    else:\n",
        "      s0 += 1\n",
        "      if(predicted[i]==1):\n",
        "        p1s0 += 1\n",
        "\n",
        "  delta = abs((p1s1/s1) - (p1s0/s0))\n",
        "  return delta\n"
      ],
      "metadata": {
        "id": "IteF9D1xCwe7"
      },
      "execution_count": 183,
      "outputs": []
    },
    {
      "cell_type": "code",
      "source": [
        "def opportunity(pred, xtest, ytest, s_data):\n",
        "  tps1 = 0\n",
        "  tps0 = 0\n",
        "  fns1 = 0\n",
        "  fns0 = 0\n",
        "  for i in range(len(pred)):\n",
        "    if(xtest[s_data].iloc[i]==1):\n",
        "      if(pred[i]==1 and ytest.iloc[i]==1):\n",
        "        tps1 += 1\n",
        "      elif(pred[i]==0 and ytest.iloc[i]==1):\n",
        "        fns1 += 1\n",
        "    elif(xtest[s_data].iloc[i]==0):\n",
        "      if(pred[i]==1 and ytest.iloc[i]==1):\n",
        "        tps0 += 1\n",
        "      elif(pred[i]==0 and ytest.iloc[i]==1):\n",
        "        fns0 += 1\n",
        "  delta_opp = abs ( (tps1/(tps1+fns1) ) - (tps0/(tps0+fns0) ) )\n",
        "  return delta_opp"
      ],
      "metadata": {
        "id": "CoVzJVG_mn_2"
      },
      "execution_count": 184,
      "outputs": []
    },
    {
      "cell_type": "code",
      "source": [
        "def equality_of_odds(pred, xtest, ytest, s_data):\n",
        "  fps1 = 0\n",
        "  fps0 = 0\n",
        "  tns1 = 0\n",
        "  tns0 = 0\n",
        "  for i in range(len(pred)):\n",
        "    if(xtest[s_data].iloc[i]==1):\n",
        "      if(pred[i]==1 and ytest.iloc[i]==0):\n",
        "        fps1 += 1\n",
        "      elif(pred[i]==0 and ytest.iloc[i]==0):\n",
        "        tns1 += 1\n",
        "    else:\n",
        "      if(pred[i]==1 and ytest.iloc[i]==0):\n",
        "        fps0 += 1\n",
        "      elif(pred[i]==0 and ytest.iloc[i]==0):\n",
        "        tns0 += 1\n",
        "  delta_odd = abs ( (fps1/(fps1+tns1) ) - (fps0/(fps0+tns0) ) )\n",
        "  return delta_odd"
      ],
      "metadata": {
        "id": "kJAdWoWgmb-s"
      },
      "execution_count": 185,
      "outputs": []
    },
    {
      "cell_type": "code",
      "source": [
        "demo_race = []\n",
        "demo_race.append(demoParity(y_predSVC, x_test, 'race'))\n",
        "demo_race.append(demoParity(y_predLogistic, x_test, 'race'))\n",
        "demo_race.append(demoParity(y_predDT, x_test, 'race'))\n",
        "demo_race.append(demoParity(y_predRFC, x_test, 'race'))\n",
        "demo_race.append(demoParity(y_predAB, x_test, 'race'))\n",
        "demo_race.append(demoParity(y_predXG, x_test, 'race'))\n",
        "\n",
        "demo_race"
      ],
      "metadata": {
        "colab": {
          "base_uri": "https://localhost:8080/"
        },
        "id": "4rz0_B_goOho",
        "outputId": "d349f4e6-5e5d-4577-ea97-81523600ecc3"
      },
      "execution_count": 186,
      "outputs": [
        {
          "output_type": "execute_result",
          "data": {
            "text/plain": [
              "[0.07358181039256867,\n",
              " 0.13520938106670033,\n",
              " 0.07615502284090778,\n",
              " 0.06486971584061461,\n",
              " 0.0955960647908555,\n",
              " 0.07758190187054723]"
            ]
          },
          "metadata": {},
          "execution_count": 186
        }
      ]
    },
    {
      "cell_type": "code",
      "source": [
        "demo_sex = []\n",
        "demo_sex.append(demoParity(y_predSVC, x_test, 'sex'))\n",
        "demo_sex.append(demoParity(y_predLogistic, x_test, 'sex'))\n",
        "demo_sex.append(demoParity(y_predDT, x_test, 'sex'))\n",
        "demo_sex.append(demoParity(y_predRFC, x_test, 'sex'))\n",
        "demo_sex.append(demoParity(y_predAB, x_test, 'sex'))\n",
        "demo_sex.append(demoParity(y_predXG, x_test, 'sex'))\n",
        "\n",
        "demo_sex"
      ],
      "metadata": {
        "colab": {
          "base_uri": "https://localhost:8080/"
        },
        "id": "nWsKP4iTqdHT",
        "outputId": "2a4c344d-480e-4cdb-af25-0d46280a2436"
      },
      "execution_count": 187,
      "outputs": [
        {
          "output_type": "execute_result",
          "data": {
            "text/plain": [
              "[0.13174709459852713,\n",
              " 0.3131012176495617,\n",
              " 0.18919219470187676,\n",
              " 0.15260162477588277,\n",
              " 0.19032988815751184,\n",
              " 0.1708096360951811]"
            ]
          },
          "metadata": {},
          "execution_count": 187
        }
      ]
    },
    {
      "cell_type": "code",
      "source": [
        "plt.figure(figsize=(10, 5))\n",
        "\n",
        "# labels = ['age', 'education-num', 'hours-per-week', 'marital-status',\n",
        "#        'native-country', 'occupation']\n",
        "\n",
        "labels = ['SVM','Logistic','Decision Tree','RFC','AdaBoost','XGBoost']\n",
        "x = np.arange(len(labels)) \n",
        "width = 0.2\n",
        "plt.bar(x-width/2,height= demo_race,width=width,label='Race',color = \"blue\")\n",
        "plt.bar(x+width/2,height= demo_sex,width=width,label='Sex', color = \"red\")\n",
        "plt.legend(fontsize=15)\n",
        "\n",
        "plt.ylabel('Demographic Parity Comparision',size=15)\n",
        "plt.xticks(ticks=x,labels=labels)"
      ],
      "metadata": {
        "colab": {
          "base_uri": "https://localhost:8080/",
          "height": 534
        },
        "id": "ofqwhyQCP-XL",
        "outputId": "b6f23bf4-cd9e-4a1c-9d37-e17e75e15d87"
      },
      "execution_count": 188,
      "outputs": [
        {
          "output_type": "execute_result",
          "data": {
            "text/plain": [
              "([<matplotlib.axis.XTick at 0x7fe3de6cf9d0>,\n",
              "  <matplotlib.axis.XTick at 0x7fe3de6cf4d0>,\n",
              "  <matplotlib.axis.XTick at 0x7fe3de6cfd10>,\n",
              "  <matplotlib.axis.XTick at 0x7fe3de641890>,\n",
              "  <matplotlib.axis.XTick at 0x7fe3de641e10>,\n",
              "  <matplotlib.axis.XTick at 0x7fe3de64c390>],\n",
              " [Text(0, 0, 'SVM'),\n",
              "  Text(0, 0, 'Logistic'),\n",
              "  Text(0, 0, 'Decision Tree'),\n",
              "  Text(0, 0, 'RFC'),\n",
              "  Text(0, 0, 'AdaBoost'),\n",
              "  Text(0, 0, 'XGBoost')])"
            ]
          },
          "metadata": {},
          "execution_count": 188
        },
        {
          "output_type": "display_data",
          "data": {
            "text/plain": [
              "<Figure size 720x360 with 1 Axes>"
            ],
            "image/png": "[encoded data removed]"
          },
          "metadata": {
            "needs_background": "light"
          }
        }
      ]
    },
    {
      "cell_type": "code",
      "source": [
        "oppo_race = []\n",
        "\n",
        "oppo_race.append(opportunity(y_predSVC, x_test, y_test, 'race'))\n",
        "oppo_race.append(opportunity(y_predLogistic, x_test, y_test, 'race'))\n",
        "oppo_race.append(opportunity(y_predDT, x_test, y_test, 'race'))\n",
        "oppo_race.append(opportunity(y_predRFC, x_test, y_test, 'race'))\n",
        "oppo_race.append(opportunity(y_predAB, x_test, y_test, 'race'))\n",
        "oppo_race.append(opportunity(y_predXG, x_test, y_test, 'race'))\n",
        "\n",
        "oppo_race"
      ],
      "metadata": {
        "colab": {
          "base_uri": "https://localhost:8080/"
        },
        "id": "IPX0IKjRXRAZ",
        "outputId": "19830dcb-c66c-40a3-8849-b51ee9704062"
      },
      "execution_count": 189,
      "outputs": [
        {
          "output_type": "execute_result",
          "data": {
            "text/plain": [
              "[0.018873550632540148,\n",
              " 0.0019381929100756867,\n",
              " 0.013836204368144145,\n",
              " 0.007219951899575694,\n",
              " 0.03819682067927177,\n",
              " 0.026682537199616774]"
            ]
          },
          "metadata": {},
          "execution_count": 189
        }
      ]
    },
    {
      "cell_type": "code",
      "source": [
        "oppo_sex = []\n",
        "\n",
        "oppo_sex.append(opportunity(y_predSVC, x_test, y_test, 'sex'))\n",
        "oppo_sex.append(opportunity(y_predLogistic, x_test, y_test, 'sex'))\n",
        "oppo_sex.append(opportunity(y_predDT, x_test, y_test, 'sex'))\n",
        "oppo_sex.append(opportunity(y_predRFC, x_test, y_test, 'sex'))\n",
        "oppo_sex.append(opportunity(y_predAB, x_test, y_test, 'sex'))\n",
        "oppo_sex.append(opportunity(y_predXG, x_test, y_test, 'sex'))\n",
        "\n",
        "oppo_sex"
      ],
      "metadata": {
        "colab": {
          "base_uri": "https://localhost:8080/"
        },
        "id": "uRZEAWwNtLKo",
        "outputId": "7e07f215-b80c-4abe-9042-5c13a15642ab"
      },
      "execution_count": 190,
      "outputs": [
        {
          "output_type": "execute_result",
          "data": {
            "text/plain": [
              "[0.11900656854436775,\n",
              " 0.22397502459551333,\n",
              " 0.05610374598597978,\n",
              " 0.08595928996080948,\n",
              " 0.0814022202524165,\n",
              " 0.09337203676826322]"
            ]
          },
          "metadata": {},
          "execution_count": 190
        }
      ]
    },
    {
      "cell_type": "code",
      "source": [
        "plt.figure(figsize=(10, 5))\n",
        "\n",
        "# labels = ['age', 'education-num', 'hours-per-week', 'marital-status',\n",
        "#        'native-country', 'occupation']\n",
        "\n",
        "labels = ['SVM','Logistic','Decision Tree','RFC','AdaBoost','XGBoost']\n",
        "x = np.arange(len(labels)) \n",
        "width = 0.2\n",
        "plt.bar(x-width/2,height= oppo_race,width=width,label='Race',color = \"blue\")\n",
        "plt.bar(x+width/2,height= oppo_sex,width=width,label='Sex', color = \"red\")\n",
        "plt.legend(fontsize=15)\n",
        "\n",
        "plt.ylabel('Equality of Opportunity',size=15)\n",
        "plt.xticks(ticks=x,labels=labels)"
      ],
      "metadata": {
        "colab": {
          "base_uri": "https://localhost:8080/",
          "height": 534
        },
        "id": "ScpOFJNJRKRt",
        "outputId": "2de56d31-7df8-405b-9f84-ba0838bf3693"
      },
      "execution_count": 191,
      "outputs": [
        {
          "output_type": "execute_result",
          "data": {
            "text/plain": [
              "([<matplotlib.axis.XTick at 0x7fe3de7583d0>,\n",
              "  <matplotlib.axis.XTick at 0x7fe3de73dc50>,\n",
              "  <matplotlib.axis.XTick at 0x7fe3de678c50>,\n",
              "  <matplotlib.axis.XTick at 0x7fe3de5d8650>,\n",
              "  <matplotlib.axis.XTick at 0x7fe3de5d8bd0>,\n",
              "  <matplotlib.axis.XTick at 0x7fe3de5e1090>],\n",
              " [Text(0, 0, 'SVM'),\n",
              "  Text(0, 0, 'Logistic'),\n",
              "  Text(0, 0, 'Decision Tree'),\n",
              "  Text(0, 0, 'RFC'),\n",
              "  Text(0, 0, 'AdaBoost'),\n",
              "  Text(0, 0, 'XGBoost')])"
            ]
          },
          "metadata": {},
          "execution_count": 191
        },
        {
          "output_type": "display_data",
          "data": {
            "text/plain": [
              "<Figure size 720x360 with 1 Axes>"
            ],
            "image/png": "[encoded data removed]"
          },
          "metadata": {
            "needs_background": "light"
          }
        }
      ]
    },
    {
      "cell_type": "code",
      "source": [
        "equality_odd = []\n",
        "\n",
        "equality_odd.append(equality_of_odds(y_predSVC, x_test, y_test, 'race'))\n",
        "equality_odd.append(equality_of_odds(y_predLogistic, x_test, y_test, 'race'))\n",
        "equality_odd.append(equality_of_odds(y_predDT, x_test, y_test, 'race'))\n",
        "equality_odd.append(equality_of_odds(y_predRFC, x_test, y_test, 'race'))\n",
        "equality_odd.append(equality_of_odds(y_predAB, x_test, y_test, 'race'))\n",
        "equality_odd.append(equality_of_odds(y_predXG, x_test, y_test, 'race'))\n",
        "\n",
        "equality_odd"
      ],
      "metadata": {
        "colab": {
          "base_uri": "https://localhost:8080/"
        },
        "id": "cJ7geGZOb_rh",
        "outputId": "e416ddd8-d7da-48c9-88d2-8c1b33575022"
      },
      "execution_count": 192,
      "outputs": [
        {
          "output_type": "execute_result",
          "data": {
            "text/plain": [
              "[0.03712879748999111,\n",
              " 0.11204827057044969,\n",
              " 0.024455620297848313,\n",
              " 0.008261289595567475,\n",
              " 0.035180197974672006,\n",
              " 0.012212616390520105]"
            ]
          },
          "metadata": {},
          "execution_count": 192
        }
      ]
    },
    {
      "cell_type": "code",
      "source": [
        "equality_odd_sex = []\n",
        "\n",
        "equality_odd_sex.append(equality_of_odds(y_predSVC, x_test, y_test, 'sex'))\n",
        "equality_odd_sex.append(equality_of_odds(y_predLogistic, x_test, y_test, 'sex'))\n",
        "equality_odd_sex.append(equality_of_odds(y_predDT, x_test, y_test, 'sex'))\n",
        "equality_odd_sex.append(equality_of_odds(y_predRFC, x_test, y_test, 'sex'))\n",
        "equality_odd_sex.append(equality_of_odds(y_predAB, x_test, y_test, 'sex'))\n",
        "equality_odd_sex.append(equality_of_odds(y_predXG, x_test, y_test, 'sex'))\n",
        "\n",
        "equality_odd_sex"
      ],
      "metadata": {
        "colab": {
          "base_uri": "https://localhost:8080/"
        },
        "id": "9Ne2TISmv0o_",
        "outputId": "c511a754-c3bc-4979-9911-f9c514d78dba"
      },
      "execution_count": 193,
      "outputs": [
        {
          "output_type": "execute_result",
          "data": {
            "text/plain": [
              "[0.055060238054060594,\n",
              " 0.25518121662020093,\n",
              " 0.09647628874698536,\n",
              " 0.049101807710704104,\n",
              " 0.08890869727070913,\n",
              " 0.05653420744372586]"
            ]
          },
          "metadata": {},
          "execution_count": 193
        }
      ]
    },
    {
      "cell_type": "code",
      "source": [
        "plt.figure(figsize=(10, 5))\n",
        "\n",
        "# labels = ['age', 'education-num', 'hours-per-week', 'marital-status',\n",
        "#        'native-country', 'occupation']\n",
        "\n",
        "labels = ['SVM','Logistic','Decision Tree','RFC','AdaBoost','XGBoost']\n",
        "x = np.arange(len(labels)) \n",
        "width = 0.2\n",
        "plt.bar(x-width/2,height= equality_odd,width=width,label='Race',color = \"blue\")\n",
        "plt.bar(x+width/2,height= equality_odd_sex,width=width,label='Sex', color = \"red\")\n",
        "plt.legend(fontsize=15)\n",
        "\n",
        "plt.ylabel('Equality Of odds',size=15)\n",
        "plt.xticks(ticks=x,labels=labels)"
      ],
      "metadata": {
        "colab": {
          "base_uri": "https://localhost:8080/",
          "height": 534
        },
        "id": "cD1FSkKFRQF2",
        "outputId": "2b7bdfee-1fbb-410f-ed70-f792d1890f72"
      },
      "execution_count": 194,
      "outputs": [
        {
          "output_type": "execute_result",
          "data": {
            "text/plain": [
              "([<matplotlib.axis.XTick at 0x7fe3df153450>,\n",
              "  <matplotlib.axis.XTick at 0x7fe3df153490>,\n",
              "  <matplotlib.axis.XTick at 0x7fe3df2c6910>,\n",
              "  <matplotlib.axis.XTick at 0x7fe3dedf8050>,\n",
              "  <matplotlib.axis.XTick at 0x7fe3ded39050>,\n",
              "  <matplotlib.axis.XTick at 0x7fe3ded39c90>],\n",
              " [Text(0, 0, 'SVM'),\n",
              "  Text(0, 0, 'Logistic'),\n",
              "  Text(0, 0, 'Decision Tree'),\n",
              "  Text(0, 0, 'RFC'),\n",
              "  Text(0, 0, 'AdaBoost'),\n",
              "  Text(0, 0, 'XGBoost')])"
            ]
          },
          "metadata": {},
          "execution_count": 194
        },
        {
          "output_type": "display_data",
          "data": {
            "text/plain": [
              "<Figure size 720x360 with 1 Axes>"
            ],
            "image/png": "[encoded data removed]"
          },
          "metadata": {
            "needs_background": "light"
          }
        }
      ]
    },
    {
      "cell_type": "markdown",
      "source": [
        "Dropping the sensitive data."
      ],
      "metadata": {
        "id": "zJCzkqMR27HT"
      }
    },
    {
      "cell_type": "code",
      "source": [
        "y_lbl_drop=adult_df_enc.income\n",
        "\n",
        "drop_race = adult_df_enc['race']\n",
        "drop_sex = adult_df_enc['sex']\n",
        "x_lbl_drop=adult_df_enc.drop('income', axis=1)\n",
        "x_lbl_drop=x_lbl_drop.drop('race', axis=1)\n",
        "x_lbl_drop=x_lbl_drop.drop('sex', axis=1)\n",
        "\n",
        "x_lbl_drop"
      ],
      "metadata": {
        "colab": {
          "base_uri": "https://localhost:8080/",
          "height": 502
        },
        "id": "-Xd4XcnMwzp-",
        "outputId": "ca2787d8-f0d7-45f1-f44e-b12ac75c3aee"
      },
      "execution_count": 196,
      "outputs": [
        {
          "output_type": "execute_result",
          "data": {
            "text/plain": [
              "       age  workclass  education  education-num  marital-status  occupation  \\\n",
              "0       39          5          9             13               4           0   \n",
              "1       50          4          9             13               2           3   \n",
              "2       38          2         11              9               0           5   \n",
              "3       53          2          1              7               2           5   \n",
              "4       28          2          9             13               2           9   \n",
              "...    ...        ...        ...            ...             ...         ...   \n",
              "32556   27          2          7             12               2          12   \n",
              "32557   40          2         11              9               2           6   \n",
              "32558   58          2         11              9               6           0   \n",
              "32559   22          2         11              9               4           0   \n",
              "32560   52          3         11              9               2           3   \n",
              "\n",
              "       relationship  capital-gain  capital-loss  hours-per-week  \\\n",
              "0                 1          2174             0              39   \n",
              "1                 0             0             0              12   \n",
              "2                 1             0             0              39   \n",
              "3                 0             0             0              39   \n",
              "4                 5             0             0              39   \n",
              "...             ...           ...           ...             ...   \n",
              "32556             5             0             0              37   \n",
              "32557             0             0             0              39   \n",
              "32558             4             0             0              39   \n",
              "32559             3             0             0              19   \n",
              "32560             5         15024             0              39   \n",
              "\n",
              "       native-country  \n",
              "0                  38  \n",
              "1                  38  \n",
              "2                  38  \n",
              "3                  38  \n",
              "4                   4  \n",
              "...               ...  \n",
              "32556              38  \n",
              "32557              38  \n",
              "32558              38  \n",
              "32559              38  \n",
              "32560              38  \n",
              "\n",
              "[30162 rows x 11 columns]"
            ],
            "text/html": [
              "\n",
              "  <div id=\"df-36fa3129-9a8b-49c5-b1b3-b228c6fb0f37\">\n",
              "    <div class=\"colab-df-container\">\n",
              "      <div>\n",
              "<style scoped>\n",
              "    .dataframe tbody tr th:only-of-type {\n",
              "        vertical-align: middle;\n",
              "    }\n",
              "\n",
              "    .dataframe tbody tr th {\n",
              "        vertical-align: top;\n",
              "    }\n",
              "\n",
              "    .dataframe thead th {\n",
              "        text-align: right;\n",
              "    }\n",
              "</style>\n",
              "<table border=\"1\" class=\"dataframe\">\n",
              "  <thead>\n",
              "    <tr style=\"text-align: right;\">\n",
              "      <th></th>\n",
              "      <th>age</th>\n",
              "      <th>workclass</th>\n",
              "      <th>education</th>\n",
              "      <th>education-num</th>\n",
              "      <th>marital-status</th>\n",
              "      <th>occupation</th>\n",
              "      <th>relationship</th>\n",
              "      <th>capital-gain</th>\n",
              "      <th>capital-loss</th>\n",
              "      <th>hours-per-week</th>\n",
              "      <th>native-country</th>\n",
              "    </tr>\n",
              "  </thead>\n",
              "  <tbody>\n",
              "    <tr>\n",
              "      <th>0</th>\n",
              "      <td>39</td>\n",
              "      <td>5</td>\n",
              "      <td>9</td>\n",
              "      <td>13</td>\n",
              "      <td>4</td>\n",
              "      <td>0</td>\n",
              "      <td>1</td>\n",
              "      <td>2174</td>\n",
              "      <td>0</td>\n",
              "      <td>39</td>\n",
              "      <td>38</td>\n",
              "    </tr>\n",
              "    <tr>\n",
              "      <th>1</th>\n",
              "      <td>50</td>\n",
              "      <td>4</td>\n",
              "      <td>9</td>\n",
              "      <td>13</td>\n",
              "      <td>2</td>\n",
              "      <td>3</td>\n",
              "      <td>0</td>\n",
              "      <td>0</td>\n",
              "      <td>0</td>\n",
              "      <td>12</td>\n",
              "      <td>38</td>\n",
              "    </tr>\n",
              "    <tr>\n",
              "      <th>2</th>\n",
              "      <td>38</td>\n",
              "      <td>2</td>\n",
              "      <td>11</td>\n",
              "      <td>9</td>\n",
              "      <td>0</td>\n",
              "      <td>5</td>\n",
              "      <td>1</td>\n",
              "      <td>0</td>\n",
              "      <td>0</td>\n",
              "      <td>39</td>\n",
              "      <td>38</td>\n",
              "    </tr>\n",
              "    <tr>\n",
              "      <th>3</th>\n",
              "      <td>53</td>\n",
              "      <td>2</td>\n",
              "      <td>1</td>\n",
              "      <td>7</td>\n",
              "      <td>2</td>\n",
              "      <td>5</td>\n",
              "      <td>0</td>\n",
              "      <td>0</td>\n",
              "      <td>0</td>\n",
              "      <td>39</td>\n",
              "      <td>38</td>\n",
              "    </tr>\n",
              "    <tr>\n",
              "      <th>4</th>\n",
              "      <td>28</td>\n",
              "      <td>2</td>\n",
              "      <td>9</td>\n",
              "      <td>13</td>\n",
              "      <td>2</td>\n",
              "      <td>9</td>\n",
              "      <td>5</td>\n",
              "      <td>0</td>\n",
              "      <td>0</td>\n",
              "      <td>39</td>\n",
              "      <td>4</td>\n",
              "    </tr>\n",
              "    <tr>\n",
              "      <th>...</th>\n",
              "      <td>...</td>\n",
              "      <td>...</td>\n",
              "      <td>...</td>\n",
              "      <td>...</td>\n",
              "      <td>...</td>\n",
              "      <td>...</td>\n",
              "      <td>...</td>\n",
              "      <td>...</td>\n",
              "      <td>...</td>\n",
              "      <td>...</td>\n",
              "      <td>...</td>\n",
              "    </tr>\n",
              "    <tr>\n",
              "      <th>32556</th>\n",
              "      <td>27</td>\n",
              "      <td>2</td>\n",
              "      <td>7</td>\n",
              "      <td>12</td>\n",
              "      <td>2</td>\n",
              "      <td>12</td>\n",
              "      <td>5</td>\n",
              "      <td>0</td>\n",
              "      <td>0</td>\n",
              "      <td>37</td>\n",
              "      <td>38</td>\n",
              "    </tr>\n",
              "    <tr>\n",
              "      <th>32557</th>\n",
              "      <td>40</td>\n",
              "      <td>2</td>\n",
              "      <td>11</td>\n",
              "      <td>9</td>\n",
              "      <td>2</td>\n",
              "      <td>6</td>\n",
              "      <td>0</td>\n",
              "      <td>0</td>\n",
              "      <td>0</td>\n",
              "      <td>39</td>\n",
              "      <td>38</td>\n",
              "    </tr>\n",
              "    <tr>\n",
              "      <th>32558</th>\n",
              "      <td>58</td>\n",
              "      <td>2</td>\n",
              "      <td>11</td>\n",
              "      <td>9</td>\n",
              "      <td>6</td>\n",
              "      <td>0</td>\n",
              "      <td>4</td>\n",
              "      <td>0</td>\n",
              "      <td>0</td>\n",
              "      <td>39</td>\n",
              "      <td>38</td>\n",
              "    </tr>\n",
              "    <tr>\n",
              "      <th>32559</th>\n",
              "      <td>22</td>\n",
              "      <td>2</td>\n",
              "      <td>11</td>\n",
              "      <td>9</td>\n",
              "      <td>4</td>\n",
              "      <td>0</td>\n",
              "      <td>3</td>\n",
              "      <td>0</td>\n",
              "      <td>0</td>\n",
              "      <td>19</td>\n",
              "      <td>38</td>\n",
              "    </tr>\n",
              "    <tr>\n",
              "      <th>32560</th>\n",
              "      <td>52</td>\n",
              "      <td>3</td>\n",
              "      <td>11</td>\n",
              "      <td>9</td>\n",
              "      <td>2</td>\n",
              "      <td>3</td>\n",
              "      <td>5</td>\n",
              "      <td>15024</td>\n",
              "      <td>0</td>\n",
              "      <td>39</td>\n",
              "      <td>38</td>\n",
              "    </tr>\n",
              "  </tbody>\n",
              "</table>\n",
              "<p>30162 rows × 11 columns</p>\n",
              "</div>\n",
              "      <button class=\"colab-df-convert\" onclick=\"convertToInteractive('df-36fa3129-9a8b-49c5-b1b3-b228c6fb0f37')\"\n",
              "              title=\"Convert this dataframe to an interactive table.\"\n",
              "              style=\"display:none;\">\n",
              "        \n",
              "  <svg xmlns=\"http://www.w3.org/2000/svg\" height=\"24px\"viewBox=\"0 0 24 24\"\n",
              "       width=\"24px\">\n",
              "    <path d=\"M0 0h24v24H0V0z\" fill=\"none\"/>\n",
              "    <path d=\"M18.56 5.44l.94 2.06.94-2.06 2.06-.94-2.06-.94-.94-2.06-.94 2.06-2.06.94zm-11 1L8.5 8.5l.94-2.06 2.06-.94-2.06-.94L8.5 2.5l-.94 2.06-2.06.94zm10 10l.94 2.06.94-2.06 2.06-.94-2.06-.94-.94-2.06-.94 2.06-2.06.94z\"/><path d=\"M17.41 7.96l-1.37-1.37c-.4-.4-.92-.59-1.43-.59-.52 0-1.04.2-1.43.59L10.3 9.45l-7.72 7.72c-.78.78-.78 2.05 0 2.83L4 21.41c.39.39.9.59 1.41.59.51 0 1.02-.2 1.41-.59l7.78-7.78 2.81-2.81c.8-.78.8-2.07 0-2.86zM5.41 20L4 18.59l7.72-7.72 1.47 1.35L5.41 20z\"/>\n",
              "  </svg>\n",
              "      </button>\n",
              "      \n",
              "  <style>\n",
              "    .colab-df-container {\n",
              "      display:flex;\n",
              "      flex-wrap:wrap;\n",
              "      gap: 12px;\n",
              "    }\n",
              "\n",
              "    .colab-df-convert {\n",
              "      background-color: #E8F0FE;\n",
              "      border: none;\n",
              "      border-radius: 50%;\n",
              "      cursor: pointer;\n",
              "      display: none;\n",
              "      fill: #1967D2;\n",
              "      height: 32px;\n",
              "      padding: 0 0 0 0;\n",
              "      width: 32px;\n",
              "    }\n",
              "\n",
              "    .colab-df-convert:hover {\n",
              "      background-color: #E2EBFA;\n",
              "      box-shadow: 0px 1px 2px rgba(60, 64, 67, 0.3), 0px 1px 3px 1px rgba(60, 64, 67, 0.15);\n",
              "      fill: #174EA6;\n",
              "    }\n",
              "\n",
              "    [theme=dark] .colab-df-convert {\n",
              "      background-color: #3B4455;\n",
              "      fill: #D2E3FC;\n",
              "    }\n",
              "\n",
              "    [theme=dark] .colab-df-convert:hover {\n",
              "      background-color: #434B5C;\n",
              "      box-shadow: 0px 1px 3px 1px rgba(0, 0, 0, 0.15);\n",
              "      filter: drop-shadow(0px 1px 2px rgba(0, 0, 0, 0.3));\n",
              "      fill: #FFFFFF;\n",
              "    }\n",
              "  </style>\n",
              "\n",
              "      <script>\n",
              "        const buttonEl =\n",
              "          document.querySelector('#df-36fa3129-9a8b-49c5-b1b3-b228c6fb0f37 button.colab-df-convert');\n",
              "        buttonEl.style.display =\n",
              "          google.colab.kernel.accessAllowed ? 'block' : 'none';\n",
              "\n",
              "        async function convertToInteractive(key) {\n",
              "          const element = document.querySelector('#df-36fa3129-9a8b-49c5-b1b3-b228c6fb0f37');\n",
              "          const dataTable =\n",
              "            await google.colab.kernel.invokeFunction('convertToInteractive',\n",
              "                                                     [key], {});\n",
              "          if (!dataTable) return;\n",
              "\n",
              "          const docLinkHtml = 'Like what you see? Visit the ' +\n",
              "            '<a target=\"_blank\" href=https://colab.research.google.com/notebooks/data_table.ipynb>data table notebook</a>'\n",
              "            + ' to learn more about interactive tables.';\n",
              "          element.innerHTML = '';\n",
              "          dataTable['output_type'] = 'display_data';\n",
              "          await google.colab.output.renderOutput(dataTable, element);\n",
              "          const docLink = document.createElement('div');\n",
              "          docLink.innerHTML = docLinkHtml;\n",
              "          element.appendChild(docLink);\n",
              "        }\n",
              "      </script>\n",
              "    </div>\n",
              "  </div>\n",
              "  "
            ]
          },
          "metadata": {},
          "execution_count": 196
        }
      ]
    },
    {
      "cell_type": "code",
      "source": [
        "x_train_d, x_test_d, y_train_d, y_test_d = train_test_split(x_lbl_drop, y_lbl_drop, test_size=0.3, random_state=13)"
      ],
      "metadata": {
        "id": "l6OBc_CAz4Xb"
      },
      "execution_count": 197,
      "outputs": []
    },
    {
      "cell_type": "code",
      "source": [
        "#XGBoost  \n",
        "model = xgb.XGBClassifier()\n",
        "model.fit(x_train_d, y_train_d)\n",
        "\n",
        "#Get predictions\n",
        "y_predXG_d = model.predict(x_test_d)\n",
        "y_predXG_d"
      ],
      "metadata": {
        "colab": {
          "base_uri": "https://localhost:8080/"
        },
        "id": "opBY0r-i1YQk",
        "outputId": "d641e47e-394f-4603-9d3c-2d224c99e5fb"
      },
      "execution_count": 198,
      "outputs": [
        {
          "output_type": "execute_result",
          "data": {
            "text/plain": [
              "array([0, 0, 0, ..., 1, 0, 0])"
            ]
          },
          "metadata": {},
          "execution_count": 198
        }
      ]
    },
    {
      "cell_type": "code",
      "source": [
        "#random forest\n",
        "rfc = RandomForestClassifier(random_state = 27, max_depth = 8)\n",
        "rfc.fit(x_train_d, y_train_d)\n",
        "y_predRFC_d = rfc.predict(x_test_d)\n",
        "y_predRFC_d"
      ],
      "metadata": {
        "colab": {
          "base_uri": "https://localhost:8080/"
        },
        "id": "aCVT9kOX2Ski",
        "outputId": "f2a3e607-8c60-4d32-e648-cd3c16386b31"
      },
      "execution_count": 92,
      "outputs": [
        {
          "output_type": "execute_result",
          "data": {
            "text/plain": [
              "array([0, 0, 0, ..., 1, 0, 0])"
            ]
          },
          "metadata": {},
          "execution_count": 92
        }
      ]
    },
    {
      "cell_type": "code",
      "source": [
        "print('Accuracy Score RFC: ',metrics.accuracy_score(y_test_d,y_predRFC_d)*100,'%',sep='')\n",
        "print('Confusion Matrix RFC: ',metrics.confusion_matrix(y_test_d,y_predRFC_d), sep = '\\n')\n",
        "print(\"F1: RFC: \",f1_score(y_test_d, y_predRFC_d))"
      ],
      "metadata": {
        "colab": {
          "base_uri": "https://localhost:8080/"
        },
        "id": "DWSfza-U2jSC",
        "outputId": "753135b8-a95c-4a40-9c11-66e4a23b85fb"
      },
      "execution_count": 93,
      "outputs": [
        {
          "output_type": "stream",
          "name": "stdout",
          "text": [
            "Accuracy Score RFC: 85.57851696320036%\n",
            "Confusion Matrix RFC: \n",
            "[[6517  277]\n",
            " [1028 1227]]\n",
            "F1: RFC:  0.6528332003192339\n"
          ]
        }
      ]
    },
    {
      "cell_type": "code",
      "source": [
        "print('Accuracy Score XGBoost: ',metrics.accuracy_score(y_test_d,y_predXG_d)*100,'%',sep='')\n",
        "print('Confusion Matrix XGBoost: ',metrics.confusion_matrix(y_test_d,y_predXG_d), sep = '\\n')\n",
        "print(\"F1: XGBoost: \",f1_score(y_test_d, y_predXG_d))"
      ],
      "metadata": {
        "colab": {
          "base_uri": "https://localhost:8080/"
        },
        "id": "rBV-bkIZ1YFX",
        "outputId": "97354ef9-267f-4874-baf2-3407449636b4"
      },
      "execution_count": 199,
      "outputs": [
        {
          "output_type": "stream",
          "name": "stdout",
          "text": [
            "Accuracy Score XGBoost: 86.3631340479611%\n",
            "Confusion Matrix XGBoost: \n",
            "[[6470  324]\n",
            " [ 910 1345]]\n",
            "F1: XGBoost:  0.6855249745158002\n"
          ]
        }
      ]
    },
    {
      "cell_type": "code",
      "source": [
        "print(\"Demographic Parity Race | XGBoost\",demoParity(y_predXG_d, x_test, 'race'))\n",
        "print(\"Demographic Parity sex | XGBoost\",demoParity(y_predXG_d, x_test, 'sex'))\n",
        "\n",
        "print(\"Equality of Opportunity Race | XGBoost\",opportunity(y_predXG_d, x_test, y_test_d, 'race'))\n",
        "print(\"Equality of opportunity sex | XGBoost\",opportunity(y_predXG_d, x_test, y_test_d, 'sex'))\n",
        "\n",
        "print(\"Equality of odds Race | XGBoost\",equality_of_odds(y_predXG_d, x_test, y_test_d, 'race'))\n",
        "print(\"Equality of odds sex | XGBoost\",equality_of_odds(y_predXG_d, x_test, y_test_d, 'sex'))"
      ],
      "metadata": {
        "colab": {
          "base_uri": "https://localhost:8080/"
        },
        "id": "2AkwTaUd2_Se",
        "outputId": "3b4cba86-5ef4-43a5-dcf2-f04ba0f1df50"
      },
      "execution_count": 201,
      "outputs": [
        {
          "output_type": "stream",
          "name": "stdout",
          "text": [
            "Demographic Parity Race | XGBoost 0.07742743420633687\n",
            "Demographic Parity sex | XGBoost 0.16122784325890915\n",
            "Equality of Opportunity Race | XGBoost 0.03689410085446687\n",
            "Equality of opportunity sex | XGBoost 0.06469512927661591\n",
            "Equality of odds Race | XGBoost 0.010785352710439886\n",
            "Equality of odds sex | XGBoost 0.05103455921060607\n"
          ]
        }
      ]
    },
    {
      "cell_type": "markdown",
      "source": [
        "Removing the correlated attributes."
      ],
      "metadata": {
        "id": "bRSPCW4u3JIb"
      }
    },
    {
      "cell_type": "code",
      "source": [
        "corr = adult_df_enc.corr()"
      ],
      "metadata": {
        "id": "v8rdu2IfjUQ0"
      },
      "execution_count": 203,
      "outputs": []
    },
    {
      "cell_type": "code",
      "source": [
        "sns.heatmap(corr)"
      ],
      "metadata": {
        "colab": {
          "base_uri": "https://localhost:8080/",
          "height": 355
        },
        "id": "487x2gUxA-So",
        "outputId": "956a72fd-fc49-425d-bc0f-d1f6ee0bc9f0"
      },
      "execution_count": 204,
      "outputs": [
        {
          "output_type": "execute_result",
          "data": {
            "text/plain": [
              "<matplotlib.axes._subplots.AxesSubplot at 0x7fe3deba3210>"
            ]
          },
          "metadata": {},
          "execution_count": 204
        },
        {
          "output_type": "display_data",
          "data": {
            "text/plain": [
              "<Figure size 432x288 with 2 Axes>"
            ],
            "image/png": "[encoded data removed]"
          },
          "metadata": {
            "needs_background": "light"
          }
        }
      ]
    },
    {
      "cell_type": "code",
      "source": [
        "#Target variable \n",
        "y = [1 if y == '>50K' else 0 for y in adult_df_enc['income']]\n",
        "\n",
        "#Model features\n",
        "\n",
        "adult_df_enc.head()"
      ],
      "metadata": {
        "colab": {
          "base_uri": "https://localhost:8080/",
          "height": 305
        },
        "id": "1wOuFXp5C3mm",
        "outputId": "7411a029-9ace-449b-e0bc-49ff44397a50"
      },
      "execution_count": 206,
      "outputs": [
        {
          "output_type": "execute_result",
          "data": {
            "text/plain": [
              "   age  workclass  education  education-num  marital-status  occupation  \\\n",
              "0   39          5          9             13               4           0   \n",
              "1   50          4          9             13               2           3   \n",
              "2   38          2         11              9               0           5   \n",
              "3   53          2          1              7               2           5   \n",
              "4   28          2          9             13               2           9   \n",
              "\n",
              "   relationship  race  sex  capital-gain  capital-loss  hours-per-week  \\\n",
              "0             1     1    1          2174             0              39   \n",
              "1             0     1    1             0             0              12   \n",
              "2             1     1    1             0             0              39   \n",
              "3             0     0    1             0             0              39   \n",
              "4             5     0    0             0             0              39   \n",
              "\n",
              "   native-country  income  \n",
              "0              38       0  \n",
              "1              38       0  \n",
              "2              38       0  \n",
              "3              38       0  \n",
              "4               4       0  "
            ],
            "text/html": [
              "\n",
              "  <div id=\"df-3f2b4147-0975-4f09-bea9-24264cdf2981\">\n",
              "    <div class=\"colab-df-container\">\n",
              "      <div>\n",
              "<style scoped>\n",
              "    .dataframe tbody tr th:only-of-type {\n",
              "        vertical-align: middle;\n",
              "    }\n",
              "\n",
              "    .dataframe tbody tr th {\n",
              "        vertical-align: top;\n",
              "    }\n",
              "\n",
              "    .dataframe thead th {\n",
              "        text-align: right;\n",
              "    }\n",
              "</style>\n",
              "<table border=\"1\" class=\"dataframe\">\n",
              "  <thead>\n",
              "    <tr style=\"text-align: right;\">\n",
              "      <th></th>\n",
              "      <th>age</th>\n",
              "      <th>workclass</th>\n",
              "      <th>education</th>\n",
              "      <th>education-num</th>\n",
              "      <th>marital-status</th>\n",
              "      <th>occupation</th>\n",
              "      <th>relationship</th>\n",
              "      <th>race</th>\n",
              "      <th>sex</th>\n",
              "      <th>capital-gain</th>\n",
              "      <th>capital-loss</th>\n",
              "      <th>hours-per-week</th>\n",
              "      <th>native-country</th>\n",
              "      <th>income</th>\n",
              "    </tr>\n",
              "  </thead>\n",
              "  <tbody>\n",
              "    <tr>\n",
              "      <th>0</th>\n",
              "      <td>39</td>\n",
              "      <td>5</td>\n",
              "      <td>9</td>\n",
              "      <td>13</td>\n",
              "      <td>4</td>\n",
              "      <td>0</td>\n",
              "      <td>1</td>\n",
              "      <td>1</td>\n",
              "      <td>1</td>\n",
              "      <td>2174</td>\n",
              "      <td>0</td>\n",
              "      <td>39</td>\n",
              "      <td>38</td>\n",
              "      <td>0</td>\n",
              "    </tr>\n",
              "    <tr>\n",
              "      <th>1</th>\n",
              "      <td>50</td>\n",
              "      <td>4</td>\n",
              "      <td>9</td>\n",
              "      <td>13</td>\n",
              "      <td>2</td>\n",
              "      <td>3</td>\n",
              "      <td>0</td>\n",
              "      <td>1</td>\n",
              "      <td>1</td>\n",
              "      <td>0</td>\n",
              "      <td>0</td>\n",
              "      <td>12</td>\n",
              "      <td>38</td>\n",
              "      <td>0</td>\n",
              "    </tr>\n",
              "    <tr>\n",
              "      <th>2</th>\n",
              "      <td>38</td>\n",
              "      <td>2</td>\n",
              "      <td>11</td>\n",
              "      <td>9</td>\n",
              "      <td>0</td>\n",
              "      <td>5</td>\n",
              "      <td>1</td>\n",
              "      <td>1</td>\n",
              "      <td>1</td>\n",
              "      <td>0</td>\n",
              "      <td>0</td>\n",
              "      <td>39</td>\n",
              "      <td>38</td>\n",
              "      <td>0</td>\n",
              "    </tr>\n",
              "    <tr>\n",
              "      <th>3</th>\n",
              "      <td>53</td>\n",
              "      <td>2</td>\n",
              "      <td>1</td>\n",
              "      <td>7</td>\n",
              "      <td>2</td>\n",
              "      <td>5</td>\n",
              "      <td>0</td>\n",
              "      <td>0</td>\n",
              "      <td>1</td>\n",
              "      <td>0</td>\n",
              "      <td>0</td>\n",
              "      <td>39</td>\n",
              "      <td>38</td>\n",
              "      <td>0</td>\n",
              "    </tr>\n",
              "    <tr>\n",
              "      <th>4</th>\n",
              "      <td>28</td>\n",
              "      <td>2</td>\n",
              "      <td>9</td>\n",
              "      <td>13</td>\n",
              "      <td>2</td>\n",
              "      <td>9</td>\n",
              "      <td>5</td>\n",
              "      <td>0</td>\n",
              "      <td>0</td>\n",
              "      <td>0</td>\n",
              "      <td>0</td>\n",
              "      <td>39</td>\n",
              "      <td>4</td>\n",
              "      <td>0</td>\n",
              "    </tr>\n",
              "  </tbody>\n",
              "</table>\n",
              "</div>\n",
              "      <button class=\"colab-df-convert\" onclick=\"convertToInteractive('df-3f2b4147-0975-4f09-bea9-24264cdf2981')\"\n",
              "              title=\"Convert this dataframe to an interactive table.\"\n",
              "              style=\"display:none;\">\n",
              "        \n",
              "  <svg xmlns=\"http://www.w3.org/2000/svg\" height=\"24px\"viewBox=\"0 0 24 24\"\n",
              "       width=\"24px\">\n",
              "    <path d=\"M0 0h24v24H0V0z\" fill=\"none\"/>\n",
              "    <path d=\"M18.56 5.44l.94 2.06.94-2.06 2.06-.94-2.06-.94-.94-2.06-.94 2.06-2.06.94zm-11 1L8.5 8.5l.94-2.06 2.06-.94-2.06-.94L8.5 2.5l-.94 2.06-2.06.94zm10 10l.94 2.06.94-2.06 2.06-.94-2.06-.94-.94-2.06-.94 2.06-2.06.94z\"/><path d=\"M17.41 7.96l-1.37-1.37c-.4-.4-.92-.59-1.43-.59-.52 0-1.04.2-1.43.59L10.3 9.45l-7.72 7.72c-.78.78-.78 2.05 0 2.83L4 21.41c.39.39.9.59 1.41.59.51 0 1.02-.2 1.41-.59l7.78-7.78 2.81-2.81c.8-.78.8-2.07 0-2.86zM5.41 20L4 18.59l7.72-7.72 1.47 1.35L5.41 20z\"/>\n",
              "  </svg>\n",
              "      </button>\n",
              "      \n",
              "  <style>\n",
              "    .colab-df-container {\n",
              "      display:flex;\n",
              "      flex-wrap:wrap;\n",
              "      gap: 12px;\n",
              "    }\n",
              "\n",
              "    .colab-df-convert {\n",
              "      background-color: #E8F0FE;\n",
              "      border: none;\n",
              "      border-radius: 50%;\n",
              "      cursor: pointer;\n",
              "      display: none;\n",
              "      fill: #1967D2;\n",
              "      height: 32px;\n",
              "      padding: 0 0 0 0;\n",
              "      width: 32px;\n",
              "    }\n",
              "\n",
              "    .colab-df-convert:hover {\n",
              "      background-color: #E2EBFA;\n",
              "      box-shadow: 0px 1px 2px rgba(60, 64, 67, 0.3), 0px 1px 3px 1px rgba(60, 64, 67, 0.15);\n",
              "      fill: #174EA6;\n",
              "    }\n",
              "\n",
              "    [theme=dark] .colab-df-convert {\n",
              "      background-color: #3B4455;\n",
              "      fill: #D2E3FC;\n",
              "    }\n",
              "\n",
              "    [theme=dark] .colab-df-convert:hover {\n",
              "      background-color: #434B5C;\n",
              "      box-shadow: 0px 1px 3px 1px rgba(0, 0, 0, 0.15);\n",
              "      filter: drop-shadow(0px 1px 2px rgba(0, 0, 0, 0.3));\n",
              "      fill: #FFFFFF;\n",
              "    }\n",
              "  </style>\n",
              "\n",
              "      <script>\n",
              "        const buttonEl =\n",
              "          document.querySelector('#df-3f2b4147-0975-4f09-bea9-24264cdf2981 button.colab-df-convert');\n",
              "        buttonEl.style.display =\n",
              "          google.colab.kernel.accessAllowed ? 'block' : 'none';\n",
              "\n",
              "        async function convertToInteractive(key) {\n",
              "          const element = document.querySelector('#df-3f2b4147-0975-4f09-bea9-24264cdf2981');\n",
              "          const dataTable =\n",
              "            await google.colab.kernel.invokeFunction('convertToInteractive',\n",
              "                                                     [key], {});\n",
              "          if (!dataTable) return;\n",
              "\n",
              "          const docLinkHtml = 'Like what you see? Visit the ' +\n",
              "            '<a target=\"_blank\" href=https://colab.research.google.com/notebooks/data_table.ipynb>data table notebook</a>'\n",
              "            + ' to learn more about interactive tables.';\n",
              "          element.innerHTML = '';\n",
              "          dataTable['output_type'] = 'display_data';\n",
              "          await google.colab.output.renderOutput(dataTable, element);\n",
              "          const docLink = document.createElement('div');\n",
              "          docLink.innerHTML = docLinkHtml;\n",
              "          element.appendChild(docLink);\n",
              "        }\n",
              "      </script>\n",
              "    </div>\n",
              "  </div>\n",
              "  "
            ]
          },
          "metadata": {},
          "execution_count": 206
        }
      ]
    },
    {
      "cell_type": "code",
      "source": [
        "#Mutual information \n",
        "\n",
        "#Calcualte mutual information\n",
        "mut_race = mutual_info_classif(adult_df_enc,df_fair['priv_race'],discrete_features=[1,3,4,5])\n",
        "mut_sex = mutual_info_classif(adult_df_enc,df_fair['priv_sex'],discrete_features=[1,3,4,5])\n",
        "\n",
        "\n",
        "#Plot mutual information \n",
        "plt.figure(figsize=(20, 5))\n",
        "\n",
        "# labels = ['age', 'education-num', 'hours-per-week', 'marital-status',\n",
        "#        'native-country', 'occupation']\n",
        "\n",
        "labels = ['age', 'workclass', 'education','education-num', 'marital-status', 'occupation','relationship','race','sex','capital-gain','capital-loss', 'hours-per-week',\n",
        "         'native-country', 'income']\n",
        "x = np.arange(len(labels)) \n",
        "width = 0.4\n",
        "plt.bar(x-width/2,height= mut_race,width=width,label='Race')\n",
        "plt.bar(x+width/2,height= mut_sex,width=width,label='Sex')\n",
        "plt.legend(fontsize=15)\n",
        "\n",
        "plt.ylabel('Mutual Information',size=15)\n",
        "plt.xticks(ticks=x,labels=labels)\n",
        "\n",
        "#plt.savefig(path.format(\"Mutual_information.png\"),dpi=100)"
      ],
      "metadata": {
        "colab": {
          "base_uri": "https://localhost:8080/",
          "height": 840
        },
        "id": "qXnU7aGhGvO6",
        "outputId": "96034e11-d4f8-4f89-a1d6-840ae30d0ce0"
      },
      "execution_count": 207,
      "outputs": [
        {
          "output_type": "execute_result",
          "data": {
            "text/plain": [
              "([<matplotlib.axis.XTick at 0x7fe3de49aa10>,\n",
              "  <matplotlib.axis.XTick at 0x7fe3de452310>,\n",
              "  <matplotlib.axis.XTick at 0x7fe3de44be90>,\n",
              "  <matplotlib.axis.XTick at 0x7fe3de3c2890>,\n",
              "  <matplotlib.axis.XTick at 0x7fe3de3c2e10>,\n",
              "  <matplotlib.axis.XTick at 0x7fe3de3ca390>,\n",
              "  <matplotlib.axis.XTick at 0x7fe3de3ca910>,\n",
              "  <matplotlib.axis.XTick at 0x7fe3de3cae50>,\n",
              "  <matplotlib.axis.XTick at 0x7fe3de3d03d0>,\n",
              "  <matplotlib.axis.XTick at 0x7fe3de3d0910>,\n",
              "  <matplotlib.axis.XTick at 0x7fe3de3d0e10>,\n",
              "  <matplotlib.axis.XTick at 0x7fe3de3d0850>,\n",
              "  <matplotlib.axis.XTick at 0x7fe3de3ca450>,\n",
              "  <matplotlib.axis.XTick at 0x7fe3de3d9150>],\n",
              " [Text(0, 0, 'age'),\n",
              "  Text(0, 0, 'workclass'),\n",
              "  Text(0, 0, 'education'),\n",
              "  Text(0, 0, 'education-num'),\n",
              "  Text(0, 0, 'marital-status'),\n",
              "  Text(0, 0, 'occupation'),\n",
              "  Text(0, 0, 'relationship'),\n",
              "  Text(0, 0, 'race'),\n",
              "  Text(0, 0, 'sex'),\n",
              "  Text(0, 0, 'capital-gain'),\n",
              "  Text(0, 0, 'capital-loss'),\n",
              "  Text(0, 0, 'hours-per-week'),\n",
              "  Text(0, 0, 'native-country'),\n",
              "  Text(0, 0, 'income')])"
            ]
          },
          "metadata": {},
          "execution_count": 207
        },
        {
          "output_type": "display_data",
          "data": {
            "text/plain": [
              "<Figure size 1440x360 with 1 Axes>"
            ],
            "image/png": "[encoded data removed]"
          },
          "metadata": {
            "needs_background": "light"
          }
        }
      ]
    },
    {
      "cell_type": "code",
      "source": [
        "adult_df_enc"
      ],
      "metadata": {
        "colab": {
          "base_uri": "https://localhost:8080/",
          "height": 522
        },
        "id": "UeAGcaXREsxu",
        "outputId": "4e35a270-9bed-443c-bbd0-8528f92f7c7b"
      },
      "execution_count": 208,
      "outputs": [
        {
          "output_type": "execute_result",
          "data": {
            "text/plain": [
              "       age  workclass  education  education-num  marital-status  occupation  \\\n",
              "0       39          5          9             13               4           0   \n",
              "1       50          4          9             13               2           3   \n",
              "2       38          2         11              9               0           5   \n",
              "3       53          2          1              7               2           5   \n",
              "4       28          2          9             13               2           9   \n",
              "...    ...        ...        ...            ...             ...         ...   \n",
              "32556   27          2          7             12               2          12   \n",
              "32557   40          2         11              9               2           6   \n",
              "32558   58          2         11              9               6           0   \n",
              "32559   22          2         11              9               4           0   \n",
              "32560   52          3         11              9               2           3   \n",
              "\n",
              "       relationship  race  sex  capital-gain  capital-loss  hours-per-week  \\\n",
              "0                 1     1    1          2174             0              39   \n",
              "1                 0     1    1             0             0              12   \n",
              "2                 1     1    1             0             0              39   \n",
              "3                 0     0    1             0             0              39   \n",
              "4                 5     0    0             0             0              39   \n",
              "...             ...   ...  ...           ...           ...             ...   \n",
              "32556             5     1    0             0             0              37   \n",
              "32557             0     1    1             0             0              39   \n",
              "32558             4     1    0             0             0              39   \n",
              "32559             3     1    1             0             0              19   \n",
              "32560             5     1    0         15024             0              39   \n",
              "\n",
              "       native-country  income  \n",
              "0                  38       0  \n",
              "1                  38       0  \n",
              "2                  38       0  \n",
              "3                  38       0  \n",
              "4                   4       0  \n",
              "...               ...     ...  \n",
              "32556              38       0  \n",
              "32557              38       1  \n",
              "32558              38       0  \n",
              "32559              38       0  \n",
              "32560              38       1  \n",
              "\n",
              "[30162 rows x 14 columns]"
            ],
            "text/html": [
              "\n",
              "  <div id=\"df-630adb1d-4949-4101-a69b-e5f620a614c5\">\n",
              "    <div class=\"colab-df-container\">\n",
              "      <div>\n",
              "<style scoped>\n",
              "    .dataframe tbody tr th:only-of-type {\n",
              "        vertical-align: middle;\n",
              "    }\n",
              "\n",
              "    .dataframe tbody tr th {\n",
              "        vertical-align: top;\n",
              "    }\n",
              "\n",
              "    .dataframe thead th {\n",
              "        text-align: right;\n",
              "    }\n",
              "</style>\n",
              "<table border=\"1\" class=\"dataframe\">\n",
              "  <thead>\n",
              "    <tr style=\"text-align: right;\">\n",
              "      <th></th>\n",
              "      <th>age</th>\n",
              "      <th>workclass</th>\n",
              "      <th>education</th>\n",
              "      <th>education-num</th>\n",
              "      <th>marital-status</th>\n",
              "      <th>occupation</th>\n",
              "      <th>relationship</th>\n",
              "      <th>race</th>\n",
              "      <th>sex</th>\n",
              "      <th>capital-gain</th>\n",
              "      <th>capital-loss</th>\n",
              "      <th>hours-per-week</th>\n",
              "      <th>native-country</th>\n",
              "      <th>income</th>\n",
              "    </tr>\n",
              "  </thead>\n",
              "  <tbody>\n",
              "    <tr>\n",
              "      <th>0</th>\n",
              "      <td>39</td>\n",
              "      <td>5</td>\n",
              "      <td>9</td>\n",
              "      <td>13</td>\n",
              "      <td>4</td>\n",
              "      <td>0</td>\n",
              "      <td>1</td>\n",
              "      <td>1</td>\n",
              "      <td>1</td>\n",
              "      <td>2174</td>\n",
              "      <td>0</td>\n",
              "      <td>39</td>\n",
              "      <td>38</td>\n",
              "      <td>0</td>\n",
              "    </tr>\n",
              "    <tr>\n",
              "      <th>1</th>\n",
              "      <td>50</td>\n",
              "      <td>4</td>\n",
              "      <td>9</td>\n",
              "      <td>13</td>\n",
              "      <td>2</td>\n",
              "      <td>3</td>\n",
              "      <td>0</td>\n",
              "      <td>1</td>\n",
              "      <td>1</td>\n",
              "      <td>0</td>\n",
              "      <td>0</td>\n",
              "      <td>12</td>\n",
              "      <td>38</td>\n",
              "      <td>0</td>\n",
              "    </tr>\n",
              "    <tr>\n",
              "      <th>2</th>\n",
              "      <td>38</td>\n",
              "      <td>2</td>\n",
              "      <td>11</td>\n",
              "      <td>9</td>\n",
              "      <td>0</td>\n",
              "      <td>5</td>\n",
              "      <td>1</td>\n",
              "      <td>1</td>\n",
              "      <td>1</td>\n",
              "      <td>0</td>\n",
              "      <td>0</td>\n",
              "      <td>39</td>\n",
              "      <td>38</td>\n",
              "      <td>0</td>\n",
              "    </tr>\n",
              "    <tr>\n",
              "      <th>3</th>\n",
              "      <td>53</td>\n",
              "      <td>2</td>\n",
              "      <td>1</td>\n",
              "      <td>7</td>\n",
              "      <td>2</td>\n",
              "      <td>5</td>\n",
              "      <td>0</td>\n",
              "      <td>0</td>\n",
              "      <td>1</td>\n",
              "      <td>0</td>\n",
              "      <td>0</td>\n",
              "      <td>39</td>\n",
              "      <td>38</td>\n",
              "      <td>0</td>\n",
              "    </tr>\n",
              "    <tr>\n",
              "      <th>4</th>\n",
              "      <td>28</td>\n",
              "      <td>2</td>\n",
              "      <td>9</td>\n",
              "      <td>13</td>\n",
              "      <td>2</td>\n",
              "      <td>9</td>\n",
              "      <td>5</td>\n",
              "      <td>0</td>\n",
              "      <td>0</td>\n",
              "      <td>0</td>\n",
              "      <td>0</td>\n",
              "      <td>39</td>\n",
              "      <td>4</td>\n",
              "      <td>0</td>\n",
              "    </tr>\n",
              "    <tr>\n",
              "      <th>...</th>\n",
              "      <td>...</td>\n",
              "      <td>...</td>\n",
              "      <td>...</td>\n",
              "      <td>...</td>\n",
              "      <td>...</td>\n",
              "      <td>...</td>\n",
              "      <td>...</td>\n",
              "      <td>...</td>\n",
              "      <td>...</td>\n",
              "      <td>...</td>\n",
              "      <td>...</td>\n",
              "      <td>...</td>\n",
              "      <td>...</td>\n",
              "      <td>...</td>\n",
              "    </tr>\n",
              "    <tr>\n",
              "      <th>32556</th>\n",
              "      <td>27</td>\n",
              "      <td>2</td>\n",
              "      <td>7</td>\n",
              "      <td>12</td>\n",
              "      <td>2</td>\n",
              "      <td>12</td>\n",
              "      <td>5</td>\n",
              "      <td>1</td>\n",
              "      <td>0</td>\n",
              "      <td>0</td>\n",
              "      <td>0</td>\n",
              "      <td>37</td>\n",
              "      <td>38</td>\n",
              "      <td>0</td>\n",
              "    </tr>\n",
              "    <tr>\n",
              "      <th>32557</th>\n",
              "      <td>40</td>\n",
              "      <td>2</td>\n",
              "      <td>11</td>\n",
              "      <td>9</td>\n",
              "      <td>2</td>\n",
              "      <td>6</td>\n",
              "      <td>0</td>\n",
              "      <td>1</td>\n",
              "      <td>1</td>\n",
              "      <td>0</td>\n",
              "      <td>0</td>\n",
              "      <td>39</td>\n",
              "      <td>38</td>\n",
              "      <td>1</td>\n",
              "    </tr>\n",
              "    <tr>\n",
              "      <th>32558</th>\n",
              "      <td>58</td>\n",
              "      <td>2</td>\n",
              "      <td>11</td>\n",
              "      <td>9</td>\n",
              "      <td>6</td>\n",
              "      <td>0</td>\n",
              "      <td>4</td>\n",
              "      <td>1</td>\n",
              "      <td>0</td>\n",
              "      <td>0</td>\n",
              "      <td>0</td>\n",
              "      <td>39</td>\n",
              "      <td>38</td>\n",
              "      <td>0</td>\n",
              "    </tr>\n",
              "    <tr>\n",
              "      <th>32559</th>\n",
              "      <td>22</td>\n",
              "      <td>2</td>\n",
              "      <td>11</td>\n",
              "      <td>9</td>\n",
              "      <td>4</td>\n",
              "      <td>0</td>\n",
              "      <td>3</td>\n",
              "      <td>1</td>\n",
              "      <td>1</td>\n",
              "      <td>0</td>\n",
              "      <td>0</td>\n",
              "      <td>19</td>\n",
              "      <td>38</td>\n",
              "      <td>0</td>\n",
              "    </tr>\n",
              "    <tr>\n",
              "      <th>32560</th>\n",
              "      <td>52</td>\n",
              "      <td>3</td>\n",
              "      <td>11</td>\n",
              "      <td>9</td>\n",
              "      <td>2</td>\n",
              "      <td>3</td>\n",
              "      <td>5</td>\n",
              "      <td>1</td>\n",
              "      <td>0</td>\n",
              "      <td>15024</td>\n",
              "      <td>0</td>\n",
              "      <td>39</td>\n",
              "      <td>38</td>\n",
              "      <td>1</td>\n",
              "    </tr>\n",
              "  </tbody>\n",
              "</table>\n",
              "<p>30162 rows × 14 columns</p>\n",
              "</div>\n",
              "      <button class=\"colab-df-convert\" onclick=\"convertToInteractive('df-630adb1d-4949-4101-a69b-e5f620a614c5')\"\n",
              "              title=\"Convert this dataframe to an interactive table.\"\n",
              "              style=\"display:none;\">\n",
              "        \n",
              "  <svg xmlns=\"http://www.w3.org/2000/svg\" height=\"24px\"viewBox=\"0 0 24 24\"\n",
              "       width=\"24px\">\n",
              "    <path d=\"M0 0h24v24H0V0z\" fill=\"none\"/>\n",
              "    <path d=\"M18.56 5.44l.94 2.06.94-2.06 2.06-.94-2.06-.94-.94-2.06-.94 2.06-2.06.94zm-11 1L8.5 8.5l.94-2.06 2.06-.94-2.06-.94L8.5 2.5l-.94 2.06-2.06.94zm10 10l.94 2.06.94-2.06 2.06-.94-2.06-.94-.94-2.06-.94 2.06-2.06.94z\"/><path d=\"M17.41 7.96l-1.37-1.37c-.4-.4-.92-.59-1.43-.59-.52 0-1.04.2-1.43.59L10.3 9.45l-7.72 7.72c-.78.78-.78 2.05 0 2.83L4 21.41c.39.39.9.59 1.41.59.51 0 1.02-.2 1.41-.59l7.78-7.78 2.81-2.81c.8-.78.8-2.07 0-2.86zM5.41 20L4 18.59l7.72-7.72 1.47 1.35L5.41 20z\"/>\n",
              "  </svg>\n",
              "      </button>\n",
              "      \n",
              "  <style>\n",
              "    .colab-df-container {\n",
              "      display:flex;\n",
              "      flex-wrap:wrap;\n",
              "      gap: 12px;\n",
              "    }\n",
              "\n",
              "    .colab-df-convert {\n",
              "      background-color: #E8F0FE;\n",
              "      border: none;\n",
              "      border-radius: 50%;\n",
              "      cursor: pointer;\n",
              "      display: none;\n",
              "      fill: #1967D2;\n",
              "      height: 32px;\n",
              "      padding: 0 0 0 0;\n",
              "      width: 32px;\n",
              "    }\n",
              "\n",
              "    .colab-df-convert:hover {\n",
              "      background-color: #E2EBFA;\n",
              "      box-shadow: 0px 1px 2px rgba(60, 64, 67, 0.3), 0px 1px 3px 1px rgba(60, 64, 67, 0.15);\n",
              "      fill: #174EA6;\n",
              "    }\n",
              "\n",
              "    [theme=dark] .colab-df-convert {\n",
              "      background-color: #3B4455;\n",
              "      fill: #D2E3FC;\n",
              "    }\n",
              "\n",
              "    [theme=dark] .colab-df-convert:hover {\n",
              "      background-color: #434B5C;\n",
              "      box-shadow: 0px 1px 3px 1px rgba(0, 0, 0, 0.15);\n",
              "      filter: drop-shadow(0px 1px 2px rgba(0, 0, 0, 0.3));\n",
              "      fill: #FFFFFF;\n",
              "    }\n",
              "  </style>\n",
              "\n",
              "      <script>\n",
              "        const buttonEl =\n",
              "          document.querySelector('#df-630adb1d-4949-4101-a69b-e5f620a614c5 button.colab-df-convert');\n",
              "        buttonEl.style.display =\n",
              "          google.colab.kernel.accessAllowed ? 'block' : 'none';\n",
              "\n",
              "        async function convertToInteractive(key) {\n",
              "          const element = document.querySelector('#df-630adb1d-4949-4101-a69b-e5f620a614c5');\n",
              "          const dataTable =\n",
              "            await google.colab.kernel.invokeFunction('convertToInteractive',\n",
              "                                                     [key], {});\n",
              "          if (!dataTable) return;\n",
              "\n",
              "          const docLinkHtml = 'Like what you see? Visit the ' +\n",
              "            '<a target=\"_blank\" href=https://colab.research.google.com/notebooks/data_table.ipynb>data table notebook</a>'\n",
              "            + ' to learn more about interactive tables.';\n",
              "          element.innerHTML = '';\n",
              "          dataTable['output_type'] = 'display_data';\n",
              "          await google.colab.output.renderOutput(dataTable, element);\n",
              "          const docLink = document.createElement('div');\n",
              "          docLink.innerHTML = docLinkHtml;\n",
              "          element.appendChild(docLink);\n",
              "        }\n",
              "      </script>\n",
              "    </div>\n",
              "  </div>\n",
              "  "
            ]
          },
          "metadata": {},
          "execution_count": 208
        }
      ]
    },
    {
      "cell_type": "code",
      "source": [
        "y_lbl_proxy=adult_df_enc.income\n",
        "\n",
        "#drop_race = adult_df_enc['race']\n",
        "#drop_sex = adult_df_enc['sex']\n",
        "x_lbl_proxy=adult_df_enc.drop('income', axis=1)\n",
        "x_lbl_proxy=x_lbl_proxy.drop('race', axis=1)\n",
        "x_lbl_proxy=x_lbl_proxy.drop('sex', axis=1)\n",
        "x_lbl_proxy=x_lbl_proxy.drop('relationship', axis=1)\n",
        "x_lbl_proxy=x_lbl_proxy.drop('marital-status', axis=1)\n",
        "x_lbl_proxy=x_lbl_proxy.drop('occupation', axis=1)\n",
        "x_lbl_proxy=x_lbl_proxy.drop('native-country', axis=1)\n",
        "\n",
        "x_lbl_proxy"
      ],
      "metadata": {
        "colab": {
          "base_uri": "https://localhost:8080/",
          "height": 424
        },
        "id": "KLbb1Li-C7Rv",
        "outputId": "e2df3550-f316-42cd-afca-d66991757c21"
      },
      "execution_count": 209,
      "outputs": [
        {
          "output_type": "execute_result",
          "data": {
            "text/plain": [
              "       age  workclass  education  education-num  capital-gain  capital-loss  \\\n",
              "0       39          5          9             13          2174             0   \n",
              "1       50          4          9             13             0             0   \n",
              "2       38          2         11              9             0             0   \n",
              "3       53          2          1              7             0             0   \n",
              "4       28          2          9             13             0             0   \n",
              "...    ...        ...        ...            ...           ...           ...   \n",
              "32556   27          2          7             12             0             0   \n",
              "32557   40          2         11              9             0             0   \n",
              "32558   58          2         11              9             0             0   \n",
              "32559   22          2         11              9             0             0   \n",
              "32560   52          3         11              9         15024             0   \n",
              "\n",
              "       hours-per-week  \n",
              "0                  39  \n",
              "1                  12  \n",
              "2                  39  \n",
              "3                  39  \n",
              "4                  39  \n",
              "...               ...  \n",
              "32556              37  \n",
              "32557              39  \n",
              "32558              39  \n",
              "32559              19  \n",
              "32560              39  \n",
              "\n",
              "[30162 rows x 7 columns]"
            ],
            "text/html": [
              "\n",
              "  <div id=\"df-86630aa4-856a-47f4-b55b-41b6e4bbb773\">\n",
              "    <div class=\"colab-df-container\">\n",
              "      <div>\n",
              "<style scoped>\n",
              "    .dataframe tbody tr th:only-of-type {\n",
              "        vertical-align: middle;\n",
              "    }\n",
              "\n",
              "    .dataframe tbody tr th {\n",
              "        vertical-align: top;\n",
              "    }\n",
              "\n",
              "    .dataframe thead th {\n",
              "        text-align: right;\n",
              "    }\n",
              "</style>\n",
              "<table border=\"1\" class=\"dataframe\">\n",
              "  <thead>\n",
              "    <tr style=\"text-align: right;\">\n",
              "      <th></th>\n",
              "      <th>age</th>\n",
              "      <th>workclass</th>\n",
              "      <th>education</th>\n",
              "      <th>education-num</th>\n",
              "      <th>capital-gain</th>\n",
              "      <th>capital-loss</th>\n",
              "      <th>hours-per-week</th>\n",
              "    </tr>\n",
              "  </thead>\n",
              "  <tbody>\n",
              "    <tr>\n",
              "      <th>0</th>\n",
              "      <td>39</td>\n",
              "      <td>5</td>\n",
              "      <td>9</td>\n",
              "      <td>13</td>\n",
              "      <td>2174</td>\n",
              "      <td>0</td>\n",
              "      <td>39</td>\n",
              "    </tr>\n",
              "    <tr>\n",
              "      <th>1</th>\n",
              "      <td>50</td>\n",
              "      <td>4</td>\n",
              "      <td>9</td>\n",
              "      <td>13</td>\n",
              "      <td>0</td>\n",
              "      <td>0</td>\n",
              "      <td>12</td>\n",
              "    </tr>\n",
              "    <tr>\n",
              "      <th>2</th>\n",
              "      <td>38</td>\n",
              "      <td>2</td>\n",
              "      <td>11</td>\n",
              "      <td>9</td>\n",
              "      <td>0</td>\n",
              "      <td>0</td>\n",
              "      <td>39</td>\n",
              "    </tr>\n",
              "    <tr>\n",
              "      <th>3</th>\n",
              "      <td>53</td>\n",
              "      <td>2</td>\n",
              "      <td>1</td>\n",
              "      <td>7</td>\n",
              "      <td>0</td>\n",
              "      <td>0</td>\n",
              "      <td>39</td>\n",
              "    </tr>\n",
              "    <tr>\n",
              "      <th>4</th>\n",
              "      <td>28</td>\n",
              "      <td>2</td>\n",
              "      <td>9</td>\n",
              "      <td>13</td>\n",
              "      <td>0</td>\n",
              "      <td>0</td>\n",
              "      <td>39</td>\n",
              "    </tr>\n",
              "    <tr>\n",
              "      <th>...</th>\n",
              "      <td>...</td>\n",
              "      <td>...</td>\n",
              "      <td>...</td>\n",
              "      <td>...</td>\n",
              "      <td>...</td>\n",
              "      <td>...</td>\n",
              "      <td>...</td>\n",
              "    </tr>\n",
              "    <tr>\n",
              "      <th>32556</th>\n",
              "      <td>27</td>\n",
              "      <td>2</td>\n",
              "      <td>7</td>\n",
              "      <td>12</td>\n",
              "      <td>0</td>\n",
              "      <td>0</td>\n",
              "      <td>37</td>\n",
              "    </tr>\n",
              "    <tr>\n",
              "      <th>32557</th>\n",
              "      <td>40</td>\n",
              "      <td>2</td>\n",
              "      <td>11</td>\n",
              "      <td>9</td>\n",
              "      <td>0</td>\n",
              "      <td>0</td>\n",
              "      <td>39</td>\n",
              "    </tr>\n",
              "    <tr>\n",
              "      <th>32558</th>\n",
              "      <td>58</td>\n",
              "      <td>2</td>\n",
              "      <td>11</td>\n",
              "      <td>9</td>\n",
              "      <td>0</td>\n",
              "      <td>0</td>\n",
              "      <td>39</td>\n",
              "    </tr>\n",
              "    <tr>\n",
              "      <th>32559</th>\n",
              "      <td>22</td>\n",
              "      <td>2</td>\n",
              "      <td>11</td>\n",
              "      <td>9</td>\n",
              "      <td>0</td>\n",
              "      <td>0</td>\n",
              "      <td>19</td>\n",
              "    </tr>\n",
              "    <tr>\n",
              "      <th>32560</th>\n",
              "      <td>52</td>\n",
              "      <td>3</td>\n",
              "      <td>11</td>\n",
              "      <td>9</td>\n",
              "      <td>15024</td>\n",
              "      <td>0</td>\n",
              "      <td>39</td>\n",
              "    </tr>\n",
              "  </tbody>\n",
              "</table>\n",
              "<p>30162 rows × 7 columns</p>\n",
              "</div>\n",
              "      <button class=\"colab-df-convert\" onclick=\"convertToInteractive('df-86630aa4-856a-47f4-b55b-41b6e4bbb773')\"\n",
              "              title=\"Convert this dataframe to an interactive table.\"\n",
              "              style=\"display:none;\">\n",
              "        \n",
              "  <svg xmlns=\"http://www.w3.org/2000/svg\" height=\"24px\"viewBox=\"0 0 24 24\"\n",
              "       width=\"24px\">\n",
              "    <path d=\"M0 0h24v24H0V0z\" fill=\"none\"/>\n",
              "    <path d=\"M18.56 5.44l.94 2.06.94-2.06 2.06-.94-2.06-.94-.94-2.06-.94 2.06-2.06.94zm-11 1L8.5 8.5l.94-2.06 2.06-.94-2.06-.94L8.5 2.5l-.94 2.06-2.06.94zm10 10l.94 2.06.94-2.06 2.06-.94-2.06-.94-.94-2.06-.94 2.06-2.06.94z\"/><path d=\"M17.41 7.96l-1.37-1.37c-.4-.4-.92-.59-1.43-.59-.52 0-1.04.2-1.43.59L10.3 9.45l-7.72 7.72c-.78.78-.78 2.05 0 2.83L4 21.41c.39.39.9.59 1.41.59.51 0 1.02-.2 1.41-.59l7.78-7.78 2.81-2.81c.8-.78.8-2.07 0-2.86zM5.41 20L4 18.59l7.72-7.72 1.47 1.35L5.41 20z\"/>\n",
              "  </svg>\n",
              "      </button>\n",
              "      \n",
              "  <style>\n",
              "    .colab-df-container {\n",
              "      display:flex;\n",
              "      flex-wrap:wrap;\n",
              "      gap: 12px;\n",
              "    }\n",
              "\n",
              "    .colab-df-convert {\n",
              "      background-color: #E8F0FE;\n",
              "      border: none;\n",
              "      border-radius: 50%;\n",
              "      cursor: pointer;\n",
              "      display: none;\n",
              "      fill: #1967D2;\n",
              "      height: 32px;\n",
              "      padding: 0 0 0 0;\n",
              "      width: 32px;\n",
              "    }\n",
              "\n",
              "    .colab-df-convert:hover {\n",
              "      background-color: #E2EBFA;\n",
              "      box-shadow: 0px 1px 2px rgba(60, 64, 67, 0.3), 0px 1px 3px 1px rgba(60, 64, 67, 0.15);\n",
              "      fill: #174EA6;\n",
              "    }\n",
              "\n",
              "    [theme=dark] .colab-df-convert {\n",
              "      background-color: #3B4455;\n",
              "      fill: #D2E3FC;\n",
              "    }\n",
              "\n",
              "    [theme=dark] .colab-df-convert:hover {\n",
              "      background-color: #434B5C;\n",
              "      box-shadow: 0px 1px 3px 1px rgba(0, 0, 0, 0.15);\n",
              "      filter: drop-shadow(0px 1px 2px rgba(0, 0, 0, 0.3));\n",
              "      fill: #FFFFFF;\n",
              "    }\n",
              "  </style>\n",
              "\n",
              "      <script>\n",
              "        const buttonEl =\n",
              "          document.querySelector('#df-86630aa4-856a-47f4-b55b-41b6e4bbb773 button.colab-df-convert');\n",
              "        buttonEl.style.display =\n",
              "          google.colab.kernel.accessAllowed ? 'block' : 'none';\n",
              "\n",
              "        async function convertToInteractive(key) {\n",
              "          const element = document.querySelector('#df-86630aa4-856a-47f4-b55b-41b6e4bbb773');\n",
              "          const dataTable =\n",
              "            await google.colab.kernel.invokeFunction('convertToInteractive',\n",
              "                                                     [key], {});\n",
              "          if (!dataTable) return;\n",
              "\n",
              "          const docLinkHtml = 'Like what you see? Visit the ' +\n",
              "            '<a target=\"_blank\" href=https://colab.research.google.com/notebooks/data_table.ipynb>data table notebook</a>'\n",
              "            + ' to learn more about interactive tables.';\n",
              "          element.innerHTML = '';\n",
              "          dataTable['output_type'] = 'display_data';\n",
              "          await google.colab.output.renderOutput(dataTable, element);\n",
              "          const docLink = document.createElement('div');\n",
              "          docLink.innerHTML = docLinkHtml;\n",
              "          element.appendChild(docLink);\n",
              "        }\n",
              "      </script>\n",
              "    </div>\n",
              "  </div>\n",
              "  "
            ]
          },
          "metadata": {},
          "execution_count": 209
        }
      ]
    },
    {
      "cell_type": "markdown",
      "source": [
        "Dropping proxy and sensitive info"
      ],
      "metadata": {
        "id": "m7Hr151LLHcY"
      }
    },
    {
      "cell_type": "code",
      "source": [
        "x_train_p, x_test_p, y_train_p, y_test_p = train_test_split(x_lbl_proxy, y_lbl_proxy, test_size=0.3, random_state=13)"
      ],
      "metadata": {
        "id": "m2lsM_PKLKHM"
      },
      "execution_count": 210,
      "outputs": []
    },
    {
      "cell_type": "code",
      "source": [
        "#XGBoost  \n",
        "model = xgb.XGBClassifier()\n",
        "model.fit(x_train_p, y_train_p)\n",
        "\n",
        "#Get predictions\n",
        "y_predXG_p = model.predict(x_test_p)\n",
        "y_predXG_p"
      ],
      "metadata": {
        "colab": {
          "base_uri": "https://localhost:8080/"
        },
        "id": "Rig_Ek8fLW-u",
        "outputId": "9bc1b5c5-ffdb-4197-8f66-08e3a68bfe1b"
      },
      "execution_count": 211,
      "outputs": [
        {
          "output_type": "execute_result",
          "data": {
            "text/plain": [
              "array([0, 0, 0, ..., 0, 0, 0])"
            ]
          },
          "metadata": {},
          "execution_count": 211
        }
      ]
    },
    {
      "cell_type": "code",
      "source": [
        "print('Accuracy Score XGBoost: ',metrics.accuracy_score(y_test_p,y_predXG_p)*100,'%',sep='')\n",
        "print('Confusion Matrix XGBoost: ',metrics.confusion_matrix(y_test_p,y_predXG_p), sep = '\\n')\n",
        "print(\"F1: XGBoost: \",f1_score(y_test_p, y_predXG_p))"
      ],
      "metadata": {
        "colab": {
          "base_uri": "https://localhost:8080/"
        },
        "id": "3GZTbIHvLaJm",
        "outputId": "1d6ef78a-209b-4d2f-f5ba-3833c85f968d"
      },
      "execution_count": 212,
      "outputs": [
        {
          "output_type": "stream",
          "name": "stdout",
          "text": [
            "Accuracy Score XGBoost: 83.4567355508896%\n",
            "Confusion Matrix XGBoost: \n",
            "[[6539  255]\n",
            " [1242 1013]]\n",
            "F1: XGBoost:  0.5750780584728924\n"
          ]
        }
      ]
    },
    {
      "cell_type": "code",
      "source": [
        "print(\"Demographic Parity Race | XGBoost\",demoParity(y_predXG_p, x_test, 'race'))\n",
        "print(\"Demographic Parity sex | XGBoost\",demoParity(y_predXG_p, x_test, 'sex'))\n",
        "\n",
        "print(\"Equality of Opportunity Race | XGBoost\",opportunity(y_predXG_p, x_test, y_test_p, 'race'))\n",
        "print(\"Equality of opportunity sex | XGBoost\",opportunity(y_predXG_p, x_test, y_test_p, 'sex'))\n",
        "\n",
        "print(\"Equality of odds Race | XGBoost\",equality_of_odds(y_predXG_p, x_test, y_test_p, 'race'))\n",
        "print(\"Equality of odds sex | XGBoost\",equality_of_odds(y_predXG_p, x_test, y_test_p, 'sex'))"
      ],
      "metadata": {
        "colab": {
          "base_uri": "https://localhost:8080/"
        },
        "id": "t8RZsqHFODaR",
        "outputId": "9a9406a7-bf8d-4e76-9d9d-19639bce0516"
      },
      "execution_count": 213,
      "outputs": [
        {
          "output_type": "stream",
          "name": "stdout",
          "text": [
            "Demographic Parity Race | XGBoost 0.06663766578165665\n",
            "Demographic Parity sex | XGBoost 0.08468549562332142\n",
            "Equality of Opportunity Race | XGBoost 0.013203175410124557\n",
            "Equality of opportunity sex | XGBoost 0.02874996347200981\n",
            "Equality of odds Race | XGBoost 0.021222515124120347\n",
            "Equality of odds sex | XGBoost 0.0029097223590949933\n"
          ]
        }
      ]
    }
  ]
}